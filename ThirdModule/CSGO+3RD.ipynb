{
  "nbformat": 4,
  "nbformat_minor": 0,
  "metadata": {
    "colab": {
      "name": "CSGO+3RD.ipynb",
      "provenance": [],
      "collapsed_sections": [
        "e6HxNrz6zEPC",
        "C4U5XhML7CSv"
      ]
    },
    "kernelspec": {
      "display_name": "Python 3",
      "name": "python3"
    }
  },
  "cells": [
    {
      "cell_type": "markdown",
      "metadata": {
        "id": "e6HxNrz6zEPC"
      },
      "source": [
        "###Load processed dataset and normalization"
      ]
    },
    {
      "cell_type": "code",
      "metadata": {
        "id": "Bnowe1JMp5EV"
      },
      "source": [
        "#from google.colab import drive\n",
        "#drive.mount('/content/drive')"
      ],
      "execution_count": 69,
      "outputs": []
    },
    {
      "cell_type": "code",
      "metadata": {
        "colab": {
          "base_uri": "https://localhost:8080/"
        },
        "id": "J0YBp6k3roGL",
        "outputId": "3ce59610-d82c-4665-f47b-0ce83d553636"
      },
      "source": [
        "!dir"
      ],
      "execution_count": 70,
      "outputs": [
        {
          "output_type": "stream",
          "text": [
            " Volume in drive C has no label.\n",
            " Volume Serial Number is 8A9B-6155\n",
            "\n",
            " Directory of C:\\Users\\spore\\Documents\\GitHub\n",
            "\n",
            "03/22/2021  12:35 PM    <DIR>          .\n",
            "03/22/2021  12:35 PM    <DIR>          ..\n",
            "03/22/2021  12:35 PM    <DIR>          .ipynb_checkpoints\n",
            "11/06/2020  12:06 PM           139,880 4.jpg\n",
            "01/26/2021  10:35 PM    <DIR>          Billiard-ball-path-detection\n",
            "03/22/2021  12:35 PM        11,665,557 ClassificationHeartDesease_KNN.ipynb\n",
            "03/22/2021  09:46 AM        28,289,640 csgo_data_processed_unnorm.csv\n",
            "03/17/2021  12:23 AM    <DIR>          image-tagging\n",
            "03/07/2021  03:06 PM    <DIR>          MLHW\n",
            "11/22/2020  07:21 PM    <DIR>          Python-CloudKarafka-example\n",
            "03/10/2021  09:40 AM    <DIR>          QuickGallery\n",
            "02/28/2021  09:42 PM    <DIR>          QVulkanApp\n",
            "02/25/2021  08:03 PM    <DIR>          Stonks\n",
            "02/03/2021  11:17 PM        62,089,376 Stonks.zip\n",
            "02/18/2021  06:45 PM    <DIR>          VulkanMultithreading\n",
            "               4 File(s)    102,184,453 bytes\n",
            "              11 Dir(s)  105,074,376,704 bytes free\n"
          ],
          "name": "stdout"
        }
      ]
    },
    {
      "cell_type": "code",
      "metadata": {
        "id": "6hx5fy5fptup"
      },
      "source": [
        "import numpy as np\n",
        "import matplotlib\n",
        "import matplotlib.pyplot as plt\n",
        "%matplotlib inline \n",
        "import pandas as pd\n",
        "import sklearn\n",
        "from sklearn.decomposition import PCA\n",
        "from sklearn.model_selection import train_test_split\n",
        "from sklearn.neighbors import KNeighborsClassifier\n",
        "from sklearn.metrics import r2_score, accuracy_score\n",
        "from sklearn.svm import LinearSVC, SVC\n",
        "from sklearn.ensemble import RandomForestClassifier, GradientBoostingClassifier\n",
        "from sklearn.multiclass import OneVsRestClassifier, OneVsOneClassifier\n",
        "from sklearn.neural_network import MLPClassifier\n",
        "from sklearn.cluster import DBSCAN\n",
        "\n",
        "# Comment this line if you use light color scheme\n",
        "plt.style.use('dark_background')\n",
        "matplotlib.rcParams['figure.figsize'] = (16, 9)\n",
        "import itertools\n",
        "def plot_confusion_matrix(cm, classes,\n",
        "                          normalize=False,\n",
        "                          title='Confusion matrix',\n",
        "                          cmap=plt.cm.Blues):\n",
        "    \"\"\"\n",
        "    This function prints and plots the confusion matrix.\n",
        "    Normalization can be applied by setting `normalize=True`.\n",
        "    \"\"\"\n",
        "    plt.imshow(cm, interpolation='nearest', cmap=cmap)\n",
        "    plt.title(title)\n",
        "    plt.colorbar()\n",
        "    tick_marks = np.arange(len(classes))\n",
        "    plt.xticks(tick_marks, classes, rotation=45)\n",
        "    plt.yticks(tick_marks, classes)\n",
        "\n",
        "    if normalize:\n",
        "        cm = cm.astype('float') / cm.sum(axis=1)[:, np.newaxis]\n",
        "        print(\"Normalized confusion matrix\")\n",
        "    else:\n",
        "        print('Confusion matrix, without normalization')\n",
        "\n",
        "    print(cm)\n",
        "\n",
        "    thresh = cm.max() / 2.\n",
        "    for i, j in itertools.product(range(cm.shape[0]), range(cm.shape[1])):\n",
        "        plt.text(j, i, cm[i, j],\n",
        "                 horizontalalignment=\"center\",\n",
        "                 color=\"black\" if cm[i, j] > thresh else \"black\")\n",
        "\n",
        "    plt.tight_layout()\n",
        "    plt.ylabel('True label')\n",
        "    plt.xlabel('Predicted label')"
      ],
      "execution_count": 71,
      "outputs": []
    },
    {
      "cell_type": "code",
      "metadata": {
        "id": "mnAASVPApwmE"
      },
      "source": [
        "#data_ready = pd.read_csv('drive/MyDrive/csgo_data_processed_unnorm.csv')"
      ],
      "execution_count": 72,
      "outputs": []
    },
    {
      "cell_type": "code",
      "metadata": {
        "id": "NX9q_j4Jr9mR"
      },
      "source": [
        "data_ready = pd.read_csv('csgo_data_processed_unnorm.csv')"
      ],
      "execution_count": 73,
      "outputs": []
    },
    {
      "cell_type": "code",
      "metadata": {
        "colab": {
          "base_uri": "https://localhost:8080/"
        },
        "id": "Pw0AmNpZp-n7",
        "outputId": "1fc10020-2f3c-409e-bd19-c800a0a19388"
      },
      "source": [
        "data_ready.shape"
      ],
      "execution_count": 74,
      "outputs": [
        {
          "output_type": "execute_result",
          "data": {
            "text/plain": [
              "(122410, 58)"
            ]
          },
          "metadata": {
            "tags": []
          },
          "execution_count": 74
        }
      ]
    },
    {
      "cell_type": "code",
      "metadata": {
        "colab": {
          "base_uri": "https://localhost:8080/",
          "height": 0
        },
        "id": "gkW1uVQHsiOs",
        "outputId": "06ba609b-70a0-453c-b87f-b980e8960283"
      },
      "source": [
        "data_ready = data_ready.drop(data_ready.columns[0], axis=1)\n",
        "data_ready.head()"
      ],
      "execution_count": 75,
      "outputs": [
        {
          "output_type": "execute_result",
          "data": {
            "text/plain": [
              "   de_cache  de_dust2  de_inferno  de_mirage  de_nuke  de_overpass  de_train  \\\n",
              "0         0         1           0          0        0            0         0   \n",
              "1         0         1           0          0        0            0         0   \n",
              "2         0         1           0          0        0            0         0   \n",
              "3         0         1           0          0        0            0         0   \n",
              "4         0         1           0          0        0            0         0   \n",
              "\n",
              "   de_vertigo  time_left  ct_score  ...  t_weapon_p250  ct_weapon_p2000  \\\n",
              "0           0     175.00       0.0  ...            0.0              1.0   \n",
              "1           0     156.03       0.0  ...            0.0              1.0   \n",
              "2           0      96.03       0.0  ...            0.0              0.0   \n",
              "3           0      76.03       0.0  ...            0.0              0.0   \n",
              "4           0     174.97       1.0  ...            0.0              1.0   \n",
              "\n",
              "   ct_grenade_hegrenade  t_grenade_hegrenade  ct_grenade_flashbang  \\\n",
              "0                   0.0                  0.0                   0.0   \n",
              "1                   0.0                  0.0                   0.0   \n",
              "2                   0.0                  0.0                   0.0   \n",
              "3                   0.0                  0.0                   0.0   \n",
              "4                   0.0                  0.0                   0.0   \n",
              "\n",
              "   t_grenade_flashbang  ct_grenade_smokegrenade  t_grenade_smokegrenade  \\\n",
              "0                  0.0                      0.0                     0.0   \n",
              "1                  0.0                      0.0                     2.0   \n",
              "2                  0.0                      0.0                     2.0   \n",
              "3                  0.0                      0.0                     0.0   \n",
              "4                  0.0                      0.0                     0.0   \n",
              "\n",
              "   ct_grenade_incendiarygrenade  t_grenade_molotovgrenade  \n",
              "0                           0.0                       0.0  \n",
              "1                           0.0                       0.0  \n",
              "2                           0.0                       0.0  \n",
              "3                           0.0                       0.0  \n",
              "4                           0.0                       0.0  \n",
              "\n",
              "[5 rows x 57 columns]"
            ],
            "text/html": [
              "<div>\n",
              "<style scoped>\n",
              "    .dataframe tbody tr th:only-of-type {\n",
              "        vertical-align: middle;\n",
              "    }\n",
              "\n",
              "    .dataframe tbody tr th {\n",
              "        vertical-align: top;\n",
              "    }\n",
              "\n",
              "    .dataframe thead th {\n",
              "        text-align: right;\n",
              "    }\n",
              "</style>\n",
              "<table border=\"1\" class=\"dataframe\">\n",
              "  <thead>\n",
              "    <tr style=\"text-align: right;\">\n",
              "      <th></th>\n",
              "      <th>de_cache</th>\n",
              "      <th>de_dust2</th>\n",
              "      <th>de_inferno</th>\n",
              "      <th>de_mirage</th>\n",
              "      <th>de_nuke</th>\n",
              "      <th>de_overpass</th>\n",
              "      <th>de_train</th>\n",
              "      <th>de_vertigo</th>\n",
              "      <th>time_left</th>\n",
              "      <th>ct_score</th>\n",
              "      <th>...</th>\n",
              "      <th>t_weapon_p250</th>\n",
              "      <th>ct_weapon_p2000</th>\n",
              "      <th>ct_grenade_hegrenade</th>\n",
              "      <th>t_grenade_hegrenade</th>\n",
              "      <th>ct_grenade_flashbang</th>\n",
              "      <th>t_grenade_flashbang</th>\n",
              "      <th>ct_grenade_smokegrenade</th>\n",
              "      <th>t_grenade_smokegrenade</th>\n",
              "      <th>ct_grenade_incendiarygrenade</th>\n",
              "      <th>t_grenade_molotovgrenade</th>\n",
              "    </tr>\n",
              "  </thead>\n",
              "  <tbody>\n",
              "    <tr>\n",
              "      <th>0</th>\n",
              "      <td>0</td>\n",
              "      <td>1</td>\n",
              "      <td>0</td>\n",
              "      <td>0</td>\n",
              "      <td>0</td>\n",
              "      <td>0</td>\n",
              "      <td>0</td>\n",
              "      <td>0</td>\n",
              "      <td>175.00</td>\n",
              "      <td>0.0</td>\n",
              "      <td>...</td>\n",
              "      <td>0.0</td>\n",
              "      <td>1.0</td>\n",
              "      <td>0.0</td>\n",
              "      <td>0.0</td>\n",
              "      <td>0.0</td>\n",
              "      <td>0.0</td>\n",
              "      <td>0.0</td>\n",
              "      <td>0.0</td>\n",
              "      <td>0.0</td>\n",
              "      <td>0.0</td>\n",
              "    </tr>\n",
              "    <tr>\n",
              "      <th>1</th>\n",
              "      <td>0</td>\n",
              "      <td>1</td>\n",
              "      <td>0</td>\n",
              "      <td>0</td>\n",
              "      <td>0</td>\n",
              "      <td>0</td>\n",
              "      <td>0</td>\n",
              "      <td>0</td>\n",
              "      <td>156.03</td>\n",
              "      <td>0.0</td>\n",
              "      <td>...</td>\n",
              "      <td>0.0</td>\n",
              "      <td>1.0</td>\n",
              "      <td>0.0</td>\n",
              "      <td>0.0</td>\n",
              "      <td>0.0</td>\n",
              "      <td>0.0</td>\n",
              "      <td>0.0</td>\n",
              "      <td>2.0</td>\n",
              "      <td>0.0</td>\n",
              "      <td>0.0</td>\n",
              "    </tr>\n",
              "    <tr>\n",
              "      <th>2</th>\n",
              "      <td>0</td>\n",
              "      <td>1</td>\n",
              "      <td>0</td>\n",
              "      <td>0</td>\n",
              "      <td>0</td>\n",
              "      <td>0</td>\n",
              "      <td>0</td>\n",
              "      <td>0</td>\n",
              "      <td>96.03</td>\n",
              "      <td>0.0</td>\n",
              "      <td>...</td>\n",
              "      <td>0.0</td>\n",
              "      <td>0.0</td>\n",
              "      <td>0.0</td>\n",
              "      <td>0.0</td>\n",
              "      <td>0.0</td>\n",
              "      <td>0.0</td>\n",
              "      <td>0.0</td>\n",
              "      <td>2.0</td>\n",
              "      <td>0.0</td>\n",
              "      <td>0.0</td>\n",
              "    </tr>\n",
              "    <tr>\n",
              "      <th>3</th>\n",
              "      <td>0</td>\n",
              "      <td>1</td>\n",
              "      <td>0</td>\n",
              "      <td>0</td>\n",
              "      <td>0</td>\n",
              "      <td>0</td>\n",
              "      <td>0</td>\n",
              "      <td>0</td>\n",
              "      <td>76.03</td>\n",
              "      <td>0.0</td>\n",
              "      <td>...</td>\n",
              "      <td>0.0</td>\n",
              "      <td>0.0</td>\n",
              "      <td>0.0</td>\n",
              "      <td>0.0</td>\n",
              "      <td>0.0</td>\n",
              "      <td>0.0</td>\n",
              "      <td>0.0</td>\n",
              "      <td>0.0</td>\n",
              "      <td>0.0</td>\n",
              "      <td>0.0</td>\n",
              "    </tr>\n",
              "    <tr>\n",
              "      <th>4</th>\n",
              "      <td>0</td>\n",
              "      <td>1</td>\n",
              "      <td>0</td>\n",
              "      <td>0</td>\n",
              "      <td>0</td>\n",
              "      <td>0</td>\n",
              "      <td>0</td>\n",
              "      <td>0</td>\n",
              "      <td>174.97</td>\n",
              "      <td>1.0</td>\n",
              "      <td>...</td>\n",
              "      <td>0.0</td>\n",
              "      <td>1.0</td>\n",
              "      <td>0.0</td>\n",
              "      <td>0.0</td>\n",
              "      <td>0.0</td>\n",
              "      <td>0.0</td>\n",
              "      <td>0.0</td>\n",
              "      <td>0.0</td>\n",
              "      <td>0.0</td>\n",
              "      <td>0.0</td>\n",
              "    </tr>\n",
              "  </tbody>\n",
              "</table>\n",
              "<p>5 rows × 57 columns</p>\n",
              "</div>"
            ]
          },
          "metadata": {
            "tags": []
          },
          "execution_count": 75
        }
      ]
    },
    {
      "cell_type": "code",
      "metadata": {
        "colab": {
          "base_uri": "https://localhost:8080/"
        },
        "id": "H17WvibFzrDi",
        "outputId": "32204bb1-4177-41e1-fab3-92bc7647c117"
      },
      "source": [
        "data_ready['de_cache'].sum()"
      ],
      "execution_count": 76,
      "outputs": [
        {
          "output_type": "execute_result",
          "data": {
            "text/plain": [
              "145"
            ]
          },
          "metadata": {
            "tags": []
          },
          "execution_count": 76
        }
      ]
    },
    {
      "cell_type": "code",
      "metadata": {
        "colab": {
          "base_uri": "https://localhost:8080/"
        },
        "id": "kBC-dwei1X1Z",
        "outputId": "3970c940-11c5-43a0-9b23-4b10310f10db"
      },
      "source": [
        "data = data_ready.sample(32000)\n",
        "data.shape"
      ],
      "execution_count": 77,
      "outputs": [
        {
          "output_type": "execute_result",
          "data": {
            "text/plain": [
              "(32000, 57)"
            ]
          },
          "metadata": {
            "tags": []
          },
          "execution_count": 77
        }
      ]
    },
    {
      "cell_type": "code",
      "metadata": {
        "id": "gJ42_Raa3OSI"
      },
      "source": [
        "Y = data['round_winner']\n",
        "data = data.drop(['round_winner'], axis=1)"
      ],
      "execution_count": 78,
      "outputs": []
    },
    {
      "cell_type": "code",
      "metadata": {
        "colab": {
          "base_uri": "https://localhost:8080/",
          "height": 0
        },
        "id": "iwBOxg3n3IiA",
        "outputId": "4e36f221-7a7c-4edf-b1bf-fd722b5b6878"
      },
      "source": [
        "data_stand = (data - data.mean(axis = 0))/data.std(axis = 0)\n",
        "data_stand.describe()"
      ],
      "execution_count": 79,
      "outputs": [
        {
          "output_type": "execute_result",
          "data": {
            "text/plain": [
              "           de_cache      de_dust2    de_inferno     de_mirage       de_nuke  \\\n",
              "count  3.200000e+04  3.200000e+04  3.200000e+04  3.200000e+04  3.200000e+04   \n",
              "mean   1.332268e-18  1.776357e-17 -2.797762e-17 -5.706546e-17  2.131628e-17   \n",
              "std    1.000000e+00  1.000000e+00  1.000000e+00  1.000000e+00  1.000000e+00   \n",
              "min   -3.875831e-02 -4.693073e-01 -4.877536e-01 -4.243417e-01 -4.274651e-01   \n",
              "25%   -3.875831e-02 -4.693073e-01 -4.877536e-01 -4.243417e-01 -4.274651e-01   \n",
              "50%   -3.875831e-02 -4.693073e-01 -4.877536e-01 -4.243417e-01 -4.274651e-01   \n",
              "75%   -3.875831e-02 -4.693073e-01 -4.877536e-01 -4.243417e-01 -4.274651e-01   \n",
              "max    2.580011e+01  2.130733e+00  2.050151e+00  2.356518e+00  2.339299e+00   \n",
              "\n",
              "        de_overpass      de_train    de_vertigo     time_left      ct_score  \\\n",
              "count  3.200000e+04  3.200000e+04  3.200000e+04  3.200000e+04  3.200000e+04   \n",
              "mean  -5.995204e-17 -9.947598e-17  1.598721e-17 -3.148592e-16  5.995204e-17   \n",
              "std    1.000000e+00  1.000000e+00  1.000000e+00  1.000000e+00  1.000000e+00   \n",
              "min   -3.624053e-01 -3.508262e-01 -3.202665e-01 -1.795417e+00 -1.392550e+00   \n",
              "25%   -3.624053e-01 -3.508262e-01 -3.202665e-01 -7.878325e-01 -7.680210e-01   \n",
              "50%   -3.624053e-01 -3.508262e-01 -3.202665e-01 -5.357497e-02 -1.434920e-01   \n",
              "75%   -3.624053e-01 -3.508262e-01 -3.202665e-01  1.267905e+00  6.892132e-01   \n",
              "max    2.759255e+00  2.850325e+00  3.122302e+00  1.416409e+00  5.269092e+00   \n",
              "\n",
              "       ...  t_weapon_p250  ct_weapon_p2000  ct_grenade_hegrenade  \\\n",
              "count  ...   3.200000e+04     3.200000e+04          3.200000e+04   \n",
              "mean   ...  -1.310063e-17    -5.950795e-17          2.664535e-18   \n",
              "std    ...   1.000000e+00     1.000000e+00          1.000000e+00   \n",
              "min    ...  -5.058159e-01    -4.106232e-01         -7.045938e-01   \n",
              "25%    ...  -5.058159e-01    -4.106232e-01         -7.045938e-01   \n",
              "50%    ...  -5.058159e-01    -4.106232e-01         -7.045938e-01   \n",
              "75%    ...  -5.058159e-01    -4.106232e-01          7.310355e-02   \n",
              "max    ...   8.166552e+00     6.628631e+00          3.183893e+00   \n",
              "\n",
              "       t_grenade_hegrenade  ct_grenade_flashbang  t_grenade_flashbang  \\\n",
              "count         3.200000e+04          3.200000e+04         3.200000e+04   \n",
              "mean          2.331468e-17         -1.028067e-16         5.351275e-17   \n",
              "std           1.000000e+00          1.000000e+00         1.000000e+00   \n",
              "min          -5.429045e-01         -1.047383e+00        -1.038320e+00   \n",
              "25%          -5.429045e-01         -1.047383e+00        -1.038320e+00   \n",
              "50%          -5.429045e-01         -4.854539e-01        -4.812160e-01   \n",
              "75%           7.002400e-01          6.384039e-01         6.329920e-01   \n",
              "max           5.672818e+00          2.886120e+00         1.747200e+00   \n",
              "\n",
              "       ct_grenade_smokegrenade  t_grenade_smokegrenade  \\\n",
              "count             3.200000e+04            3.200000e+04   \n",
              "mean              6.528111e-17            5.084821e-17   \n",
              "std               1.000000e+00            1.000000e+00   \n",
              "min              -8.936329e-01           -8.911115e-01   \n",
              "25%              -8.936329e-01           -8.911115e-01   \n",
              "50%              -3.201480e-01           -3.444802e-01   \n",
              "75%               8.268219e-01            7.487824e-01   \n",
              "max               2.547277e+00            1.842045e+00   \n",
              "\n",
              "       ct_grenade_incendiarygrenade  t_grenade_molotovgrenade  \n",
              "count                  3.200000e+04              3.200000e+04  \n",
              "mean                   8.215650e-18             -7.860379e-17  \n",
              "std                    1.000000e+00              1.000000e+00  \n",
              "min                   -6.964829e-01             -8.127221e-01  \n",
              "25%                   -6.964829e-01             -8.127221e-01  \n",
              "50%                   -6.964829e-01             -2.117630e-01  \n",
              "75%                    6.710972e-01              3.891961e-01  \n",
              "max                    2.722468e+00              2.192073e+00  \n",
              "\n",
              "[8 rows x 56 columns]"
            ],
            "text/html": [
              "<div>\n",
              "<style scoped>\n",
              "    .dataframe tbody tr th:only-of-type {\n",
              "        vertical-align: middle;\n",
              "    }\n",
              "\n",
              "    .dataframe tbody tr th {\n",
              "        vertical-align: top;\n",
              "    }\n",
              "\n",
              "    .dataframe thead th {\n",
              "        text-align: right;\n",
              "    }\n",
              "</style>\n",
              "<table border=\"1\" class=\"dataframe\">\n",
              "  <thead>\n",
              "    <tr style=\"text-align: right;\">\n",
              "      <th></th>\n",
              "      <th>de_cache</th>\n",
              "      <th>de_dust2</th>\n",
              "      <th>de_inferno</th>\n",
              "      <th>de_mirage</th>\n",
              "      <th>de_nuke</th>\n",
              "      <th>de_overpass</th>\n",
              "      <th>de_train</th>\n",
              "      <th>de_vertigo</th>\n",
              "      <th>time_left</th>\n",
              "      <th>ct_score</th>\n",
              "      <th>...</th>\n",
              "      <th>t_weapon_p250</th>\n",
              "      <th>ct_weapon_p2000</th>\n",
              "      <th>ct_grenade_hegrenade</th>\n",
              "      <th>t_grenade_hegrenade</th>\n",
              "      <th>ct_grenade_flashbang</th>\n",
              "      <th>t_grenade_flashbang</th>\n",
              "      <th>ct_grenade_smokegrenade</th>\n",
              "      <th>t_grenade_smokegrenade</th>\n",
              "      <th>ct_grenade_incendiarygrenade</th>\n",
              "      <th>t_grenade_molotovgrenade</th>\n",
              "    </tr>\n",
              "  </thead>\n",
              "  <tbody>\n",
              "    <tr>\n",
              "      <th>count</th>\n",
              "      <td>3.200000e+04</td>\n",
              "      <td>3.200000e+04</td>\n",
              "      <td>3.200000e+04</td>\n",
              "      <td>3.200000e+04</td>\n",
              "      <td>3.200000e+04</td>\n",
              "      <td>3.200000e+04</td>\n",
              "      <td>3.200000e+04</td>\n",
              "      <td>3.200000e+04</td>\n",
              "      <td>3.200000e+04</td>\n",
              "      <td>3.200000e+04</td>\n",
              "      <td>...</td>\n",
              "      <td>3.200000e+04</td>\n",
              "      <td>3.200000e+04</td>\n",
              "      <td>3.200000e+04</td>\n",
              "      <td>3.200000e+04</td>\n",
              "      <td>3.200000e+04</td>\n",
              "      <td>3.200000e+04</td>\n",
              "      <td>3.200000e+04</td>\n",
              "      <td>3.200000e+04</td>\n",
              "      <td>3.200000e+04</td>\n",
              "      <td>3.200000e+04</td>\n",
              "    </tr>\n",
              "    <tr>\n",
              "      <th>mean</th>\n",
              "      <td>1.332268e-18</td>\n",
              "      <td>1.776357e-17</td>\n",
              "      <td>-2.797762e-17</td>\n",
              "      <td>-5.706546e-17</td>\n",
              "      <td>2.131628e-17</td>\n",
              "      <td>-5.995204e-17</td>\n",
              "      <td>-9.947598e-17</td>\n",
              "      <td>1.598721e-17</td>\n",
              "      <td>-3.148592e-16</td>\n",
              "      <td>5.995204e-17</td>\n",
              "      <td>...</td>\n",
              "      <td>-1.310063e-17</td>\n",
              "      <td>-5.950795e-17</td>\n",
              "      <td>2.664535e-18</td>\n",
              "      <td>2.331468e-17</td>\n",
              "      <td>-1.028067e-16</td>\n",
              "      <td>5.351275e-17</td>\n",
              "      <td>6.528111e-17</td>\n",
              "      <td>5.084821e-17</td>\n",
              "      <td>8.215650e-18</td>\n",
              "      <td>-7.860379e-17</td>\n",
              "    </tr>\n",
              "    <tr>\n",
              "      <th>std</th>\n",
              "      <td>1.000000e+00</td>\n",
              "      <td>1.000000e+00</td>\n",
              "      <td>1.000000e+00</td>\n",
              "      <td>1.000000e+00</td>\n",
              "      <td>1.000000e+00</td>\n",
              "      <td>1.000000e+00</td>\n",
              "      <td>1.000000e+00</td>\n",
              "      <td>1.000000e+00</td>\n",
              "      <td>1.000000e+00</td>\n",
              "      <td>1.000000e+00</td>\n",
              "      <td>...</td>\n",
              "      <td>1.000000e+00</td>\n",
              "      <td>1.000000e+00</td>\n",
              "      <td>1.000000e+00</td>\n",
              "      <td>1.000000e+00</td>\n",
              "      <td>1.000000e+00</td>\n",
              "      <td>1.000000e+00</td>\n",
              "      <td>1.000000e+00</td>\n",
              "      <td>1.000000e+00</td>\n",
              "      <td>1.000000e+00</td>\n",
              "      <td>1.000000e+00</td>\n",
              "    </tr>\n",
              "    <tr>\n",
              "      <th>min</th>\n",
              "      <td>-3.875831e-02</td>\n",
              "      <td>-4.693073e-01</td>\n",
              "      <td>-4.877536e-01</td>\n",
              "      <td>-4.243417e-01</td>\n",
              "      <td>-4.274651e-01</td>\n",
              "      <td>-3.624053e-01</td>\n",
              "      <td>-3.508262e-01</td>\n",
              "      <td>-3.202665e-01</td>\n",
              "      <td>-1.795417e+00</td>\n",
              "      <td>-1.392550e+00</td>\n",
              "      <td>...</td>\n",
              "      <td>-5.058159e-01</td>\n",
              "      <td>-4.106232e-01</td>\n",
              "      <td>-7.045938e-01</td>\n",
              "      <td>-5.429045e-01</td>\n",
              "      <td>-1.047383e+00</td>\n",
              "      <td>-1.038320e+00</td>\n",
              "      <td>-8.936329e-01</td>\n",
              "      <td>-8.911115e-01</td>\n",
              "      <td>-6.964829e-01</td>\n",
              "      <td>-8.127221e-01</td>\n",
              "    </tr>\n",
              "    <tr>\n",
              "      <th>25%</th>\n",
              "      <td>-3.875831e-02</td>\n",
              "      <td>-4.693073e-01</td>\n",
              "      <td>-4.877536e-01</td>\n",
              "      <td>-4.243417e-01</td>\n",
              "      <td>-4.274651e-01</td>\n",
              "      <td>-3.624053e-01</td>\n",
              "      <td>-3.508262e-01</td>\n",
              "      <td>-3.202665e-01</td>\n",
              "      <td>-7.878325e-01</td>\n",
              "      <td>-7.680210e-01</td>\n",
              "      <td>...</td>\n",
              "      <td>-5.058159e-01</td>\n",
              "      <td>-4.106232e-01</td>\n",
              "      <td>-7.045938e-01</td>\n",
              "      <td>-5.429045e-01</td>\n",
              "      <td>-1.047383e+00</td>\n",
              "      <td>-1.038320e+00</td>\n",
              "      <td>-8.936329e-01</td>\n",
              "      <td>-8.911115e-01</td>\n",
              "      <td>-6.964829e-01</td>\n",
              "      <td>-8.127221e-01</td>\n",
              "    </tr>\n",
              "    <tr>\n",
              "      <th>50%</th>\n",
              "      <td>-3.875831e-02</td>\n",
              "      <td>-4.693073e-01</td>\n",
              "      <td>-4.877536e-01</td>\n",
              "      <td>-4.243417e-01</td>\n",
              "      <td>-4.274651e-01</td>\n",
              "      <td>-3.624053e-01</td>\n",
              "      <td>-3.508262e-01</td>\n",
              "      <td>-3.202665e-01</td>\n",
              "      <td>-5.357497e-02</td>\n",
              "      <td>-1.434920e-01</td>\n",
              "      <td>...</td>\n",
              "      <td>-5.058159e-01</td>\n",
              "      <td>-4.106232e-01</td>\n",
              "      <td>-7.045938e-01</td>\n",
              "      <td>-5.429045e-01</td>\n",
              "      <td>-4.854539e-01</td>\n",
              "      <td>-4.812160e-01</td>\n",
              "      <td>-3.201480e-01</td>\n",
              "      <td>-3.444802e-01</td>\n",
              "      <td>-6.964829e-01</td>\n",
              "      <td>-2.117630e-01</td>\n",
              "    </tr>\n",
              "    <tr>\n",
              "      <th>75%</th>\n",
              "      <td>-3.875831e-02</td>\n",
              "      <td>-4.693073e-01</td>\n",
              "      <td>-4.877536e-01</td>\n",
              "      <td>-4.243417e-01</td>\n",
              "      <td>-4.274651e-01</td>\n",
              "      <td>-3.624053e-01</td>\n",
              "      <td>-3.508262e-01</td>\n",
              "      <td>-3.202665e-01</td>\n",
              "      <td>1.267905e+00</td>\n",
              "      <td>6.892132e-01</td>\n",
              "      <td>...</td>\n",
              "      <td>-5.058159e-01</td>\n",
              "      <td>-4.106232e-01</td>\n",
              "      <td>7.310355e-02</td>\n",
              "      <td>7.002400e-01</td>\n",
              "      <td>6.384039e-01</td>\n",
              "      <td>6.329920e-01</td>\n",
              "      <td>8.268219e-01</td>\n",
              "      <td>7.487824e-01</td>\n",
              "      <td>6.710972e-01</td>\n",
              "      <td>3.891961e-01</td>\n",
              "    </tr>\n",
              "    <tr>\n",
              "      <th>max</th>\n",
              "      <td>2.580011e+01</td>\n",
              "      <td>2.130733e+00</td>\n",
              "      <td>2.050151e+00</td>\n",
              "      <td>2.356518e+00</td>\n",
              "      <td>2.339299e+00</td>\n",
              "      <td>2.759255e+00</td>\n",
              "      <td>2.850325e+00</td>\n",
              "      <td>3.122302e+00</td>\n",
              "      <td>1.416409e+00</td>\n",
              "      <td>5.269092e+00</td>\n",
              "      <td>...</td>\n",
              "      <td>8.166552e+00</td>\n",
              "      <td>6.628631e+00</td>\n",
              "      <td>3.183893e+00</td>\n",
              "      <td>5.672818e+00</td>\n",
              "      <td>2.886120e+00</td>\n",
              "      <td>1.747200e+00</td>\n",
              "      <td>2.547277e+00</td>\n",
              "      <td>1.842045e+00</td>\n",
              "      <td>2.722468e+00</td>\n",
              "      <td>2.192073e+00</td>\n",
              "    </tr>\n",
              "  </tbody>\n",
              "</table>\n",
              "<p>8 rows × 56 columns</p>\n",
              "</div>"
            ]
          },
          "metadata": {
            "tags": []
          },
          "execution_count": 79
        }
      ]
    },
    {
      "cell_type": "code",
      "metadata": {
        "id": "aS7Se2ao3KkA"
      },
      "source": [
        "data = data_stand"
      ],
      "execution_count": 80,
      "outputs": []
    },
    {
      "cell_type": "markdown",
      "metadata": {
        "id": "mwZHUjvi1-1u"
      },
      "source": [
        "###Постановка задачи"
      ]
    },
    {
      "cell_type": "markdown",
      "metadata": {
        "id": "XYQYhIh4Vgcv"
      },
      "source": [
        "Собраны данные из множества онлайн-матчей CS:GO, игры, где сражаются две команды по пять человек: террористы, цель которых установить и подорвать бомбу по истечению 45 секунд, либо уничтожить весь спецназ; спецназ, цель которого уничтожить террористов либо обезвредить установленную бомбу.  \n",
        "Каждый раунд, с некоторым интервалом времени делался \"снимок\" игры, а именно - количество здоровья команды, количество брони, наличие оружия, факт устрановки бомбы и текущий счет.\n",
        "\n",
        "Задача состоит в определении победителя раунда по данным показателям."
      ]
    },
    {
      "cell_type": "markdown",
      "metadata": {
        "id": "2AoX8AInHcYe"
      },
      "source": [
        "### Dataset split\n"
      ]
    },
    {
      "cell_type": "code",
      "metadata": {
        "colab": {
          "base_uri": "https://localhost:8080/"
        },
        "id": "xpMY-XhHHb1c",
        "outputId": "a53051a4-81a1-4296-cfdf-7638e2ba3617"
      },
      "source": [
        "X = data\n",
        "y = (Y == 'CT').astype(int)\n",
        "\n",
        "X_train, X_test, y_train, y_test = train_test_split(X, y, test_size = 0.3, random_state = 42)\n",
        "\n",
        "N_train, _ = X_train.shape \n",
        "N_test,  _ = X_test.shape \n",
        "\n",
        "N_train, N_test"
      ],
      "execution_count": 13,
      "outputs": [
        {
          "output_type": "execute_result",
          "data": {
            "text/plain": [
              "(22400, 9600)"
            ]
          },
          "metadata": {
            "tags": []
          },
          "execution_count": 13
        }
      ]
    },
    {
      "cell_type": "markdown",
      "metadata": {
        "id": "ZCN6dYIJHNJ0"
      },
      "source": [
        "### Random Forest"
      ]
    },
    {
      "cell_type": "code",
      "metadata": {
        "colab": {
          "base_uri": "https://localhost:8080/"
        },
        "id": "F3-PXIsYIrlV",
        "outputId": "b52d7a7b-c227-4ffe-da3e-13a4ba01960d"
      },
      "source": [
        "est_counts = [ int(np.round(x)) for x in np.logspace(0.8, 3.7, 12, endpoint=False) ]\n",
        "est_counts"
      ],
      "execution_count": 42,
      "outputs": [
        {
          "output_type": "execute_result",
          "data": {
            "text/plain": [
              "[6, 11, 19, 33, 58, 102, 178, 310, 541, 944, 1647, 2873]"
            ]
          },
          "metadata": {
            "tags": []
          },
          "execution_count": 42
        }
      ]
    },
    {
      "cell_type": "code",
      "metadata": {
        "colab": {
          "base_uri": "https://localhost:8080/"
        },
        "id": "yLc0A4f63zqv",
        "outputId": "e95911df-2926-4a17-bcd5-fdd5e0f52455"
      },
      "source": [
        "train_acc = []\n",
        "test_acc  = []\n",
        "oob_acc  = []\n",
        "for cnt in est_counts:\n",
        "    rf_model = RandomForestClassifier(n_estimators = cnt, oob_score=True)\n",
        "    rf_model.fit(X_train, y_train)\n",
        "    train_acc.append(rf_model.score(X_train, y_train))\n",
        "    test_acc.append(rf_model.score(X_test, y_test))\n",
        "    oob_acc.append(rf_model.oob_score_)\n",
        "    print(\"Train: {:.5f}, Test: {:.5f}, OOB: {:.5f}\".format(train_acc[-1], test_acc[-1], oob_acc[-1]))"
      ],
      "execution_count": 43,
      "outputs": [
        {
          "output_type": "stream",
          "text": [
            "C:\\Users\\spore\\AppData\\Local\\Programs\\Python\\Python38\\lib\\site-packages\\sklearn\\ensemble\\_forest.py:540: UserWarning: Some inputs do not have OOB scores. This probably means too few trees were used to compute any reliable oob estimates.\n",
            "  warn(\"Some inputs do not have OOB scores. \"\n",
            "C:\\Users\\spore\\AppData\\Local\\Programs\\Python\\Python38\\lib\\site-packages\\sklearn\\ensemble\\_forest.py:544: RuntimeWarning: invalid value encountered in true_divide\n",
            "  decision = (predictions[k] /\n"
          ],
          "name": "stderr"
        },
        {
          "output_type": "stream",
          "text": [
            "Train: 0.97473, Test: 0.76594, OOB: 0.71469\n"
          ],
          "name": "stdout"
        },
        {
          "output_type": "stream",
          "text": [
            "C:\\Users\\spore\\AppData\\Local\\Programs\\Python\\Python38\\lib\\site-packages\\sklearn\\ensemble\\_forest.py:540: UserWarning: Some inputs do not have OOB scores. This probably means too few trees were used to compute any reliable oob estimates.\n",
            "  warn(\"Some inputs do not have OOB scores. \"\n",
            "C:\\Users\\spore\\AppData\\Local\\Programs\\Python\\Python38\\lib\\site-packages\\sklearn\\ensemble\\_forest.py:544: RuntimeWarning: invalid value encountered in true_divide\n",
            "  decision = (predictions[k] /\n"
          ],
          "name": "stderr"
        },
        {
          "output_type": "stream",
          "text": [
            "Train: 0.99147, Test: 0.78875, OOB: 0.74652\n"
          ],
          "name": "stdout"
        },
        {
          "output_type": "stream",
          "text": [
            "C:\\Users\\spore\\AppData\\Local\\Programs\\Python\\Python38\\lib\\site-packages\\sklearn\\ensemble\\_forest.py:540: UserWarning: Some inputs do not have OOB scores. This probably means too few trees were used to compute any reliable oob estimates.\n",
            "  warn(\"Some inputs do not have OOB scores. \"\n",
            "C:\\Users\\spore\\AppData\\Local\\Programs\\Python\\Python38\\lib\\site-packages\\sklearn\\ensemble\\_forest.py:544: RuntimeWarning: invalid value encountered in true_divide\n",
            "  decision = (predictions[k] /\n"
          ],
          "name": "stderr"
        },
        {
          "output_type": "stream",
          "text": [
            "Train: 0.99679, Test: 0.79010, OOB: 0.76482\n",
            "Train: 0.99799, Test: 0.79812, OOB: 0.77875\n",
            "Train: 0.99835, Test: 0.80365, OOB: 0.78911\n",
            "Train: 0.99839, Test: 0.80708, OOB: 0.79308\n",
            "Train: 0.99839, Test: 0.80844, OOB: 0.79862\n",
            "Train: 0.99839, Test: 0.81083, OOB: 0.80326\n",
            "Train: 0.99839, Test: 0.81042, OOB: 0.80674\n",
            "Train: 0.99839, Test: 0.81188, OOB: 0.80500\n",
            "Train: 0.99839, Test: 0.81115, OOB: 0.80563\n",
            "Train: 0.99839, Test: 0.81250, OOB: 0.80536\n"
          ],
          "name": "stdout"
        }
      ]
    },
    {
      "cell_type": "code",
      "metadata": {
        "colab": {
          "base_uri": "https://localhost:8080/",
          "height": 558
        },
        "id": "sxA0S1W_32ZD",
        "outputId": "69e8c721-0d2e-4d3d-d46d-cf7a61015791"
      },
      "source": [
        "plt.plot(est_counts, train_acc, marker='.', ls = '-',  label='Train accuracy')\n",
        "plt.plot(est_counts, test_acc,  marker='.', ls = '-',  label='Test accuracy' )\n",
        "plt.plot(est_counts, oob_acc, marker='.', ls = '-', label='OOB accuracy')\n",
        "plt.xscale(\"log\")\n",
        "plt.xticks(est_counts)\n",
        "plt.legend()"
      ],
      "execution_count": 45,
      "outputs": [
        {
          "output_type": "execute_result",
          "data": {
            "text/plain": [
              "<matplotlib.legend.Legend at 0x2bc13f3e250>"
            ]
          },
          "metadata": {
            "tags": []
          },
          "execution_count": 45
        },
        {
          "output_type": "display_data",
          "data": {
            "text/plain": [
              "<Figure size 1152x648 with 1 Axes>"
            ],
            "image/png": "[encoded data removed]"
          },
          "metadata": {
            "tags": []
          }
        }
      ]
    },
    {
      "cell_type": "markdown",
      "metadata": {
        "id": "lAtEYOey37ij"
      },
      "source": [
        "Картина очень похожа на то что было для MLP, очевидно модель переобучена, но точность на тестовой выборке не падает. Так же результат близок к MLP, но хуже."
      ]
    },
    {
      "cell_type": "code",
      "metadata": {
        "colab": {
          "base_uri": "https://localhost:8080/"
        },
        "id": "jg5_9PNnN5UO",
        "outputId": "fa658cdc-0140-4258-e3ef-ed6136b407ac"
      },
      "source": [
        "forest = RandomForestClassifier(n_estimators = 256)\n",
        "forest.fit(X_train, y_train)\n",
        "\n",
        "print(\"Train: {:.5f}, Test: {:.5f}\".format(\n",
        "    forest.score(X_train, y_train),\n",
        "    forest.score(X_test, y_test)\n",
        "))\n",
        "\n",
        "importances = forest.feature_importances_\n",
        "std = np.std([tree.feature_importances_ for tree in forest.estimators_], axis=0)\n",
        "indices = np.argsort(importances)[::-1]\n",
        "\n",
        "print(\"Feature ranking:\")\n",
        "for f in range(X_train.shape[1]):\n",
        "    print(\"{}. feature {} {:.5f}\".format(f + 1, X_test.columns[indices[f]], importances[indices[f]]))"
      ],
      "execution_count": null,
      "outputs": [
        {
          "output_type": "stream",
          "text": [
            "Train: 0.99732, Test: 0.87474\n",
            "Feature ranking:\n",
            "1. feature t_armor 0.08155\n",
            "2. feature ct_armor 0.07759\n",
            "3. feature ct_money 0.05685\n",
            "4. feature t_money 0.05595\n",
            "5. feature t_helmets 0.04583\n",
            "6. feature time_left 0.04237\n",
            "7. feature t_health 0.03364\n",
            "8. feature t_score 0.03349\n",
            "9. feature ct_score 0.03330\n",
            "10. feature ct_helmets 0.03295\n",
            "11. feature ct_defuse_kits 0.03163\n",
            "12. feature ct_health 0.03157\n",
            "13. feature ct_grenade_flashbang 0.02504\n",
            "14. feature t_weapon_ak47 0.02415\n",
            "15. feature t_grenade_flashbang 0.02100\n",
            "16. feature t_players_alive 0.02042\n",
            "17. feature ct_grenade_smokegrenade 0.01962\n",
            "18. feature ct_weapon_usps 0.01936\n",
            "19. feature t_weapon_glock 0.01931\n",
            "20. feature ct_weapon_m4a4 0.01867\n",
            "21. feature ct_players_alive 0.01732\n",
            "22. feature t_grenade_smokegrenade 0.01631\n",
            "23. feature t_weapon_sg553 0.01610\n",
            "24. feature t_grenade_molotovgrenade 0.01498\n",
            "25. feature ct_grenade_hegrenade 0.01430\n",
            "26. feature ct_grenade_incendiarygrenade 0.01365\n",
            "27. feature ct_weapon_awp 0.01283\n",
            "28. feature t_grenade_hegrenade 0.01028\n",
            "29. feature bomb_planted 0.00935\n",
            "30. feature ct_weapon_deagle 0.00906\n",
            "31. feature t_weapon_p250 0.00878\n",
            "32. feature t_weapon_deagle 0.00840\n",
            "33. feature ct_weapon_p2000 0.00796\n",
            "34. feature ct_weapon_ak47 0.00753\n",
            "35. feature t_weapon_awp 0.00696\n",
            "36. feature ct_weapon_sg553 0.00691\n",
            "37. feature de_dust2 0.00664\n",
            "38. feature de_inferno 0.00661\n",
            "39. feature ct_weapon_p250 0.00655\n",
            "40. feature de_nuke 0.00624\n",
            "41. feature de_mirage 0.00610\n",
            "42. feature ct_weapon_aug 0.00569\n",
            "43. feature ct_weapon_cz75auto 0.00562\n",
            "44. feature de_overpass 0.00554\n",
            "45. feature de_train 0.00553\n",
            "46. feature ct_weapon_mp9 0.00516\n",
            "47. feature de_vertigo 0.00464\n",
            "48. feature t_weapon_usps 0.00460\n",
            "49. feature ct_weapon_famas 0.00432\n",
            "50. feature t_weapon_galilar 0.00418\n",
            "51. feature t_weapon_cz75auto 0.00399\n",
            "52. feature ct_weapon_m4a1s 0.00375\n",
            "53. feature t_weapon_mac10 0.00367\n",
            "54. feature ct_weapon_fiveseven 0.00360\n",
            "55. feature ct_weapon_ssg08 0.00240\n",
            "56. feature de_cache 0.00014\n"
          ],
          "name": "stdout"
        }
      ]
    },
    {
      "cell_type": "code",
      "metadata": {
        "colab": {
          "base_uri": "https://localhost:8080/",
          "height": 698
        },
        "id": "cuUpC_wrQCQw",
        "outputId": "d70a5c34-0349-4d76-b4d6-6354dacad330"
      },
      "source": [
        "plt.title(\"Feature importances\")\n",
        "plt.bar(range(importances.shape[0]), importances[indices], align = 'center', color = 'r')\n",
        "plt.xticks(range(importances.shape[0]), X_test.columns[indices], rotation = 90)\n",
        "plt.show()"
      ],
      "execution_count": null,
      "outputs": [
        {
          "output_type": "display_data",
          "data": {
            "image/png": "[encoded data removed]",
            "text/plain": [
              "<Figure size 1152x648 with 1 Axes>"
            ]
          },
          "metadata": {
            "tags": []
          }
        }
      ]
    },
    {
      "cell_type": "markdown",
      "metadata": {
        "id": "lJ8_c1AF4zs0"
      },
      "source": [
        "Значимость признаков весьма ожидаема, похожие выводы можн осделать по статистике и матрице корреляции."
      ]
    },
    {
      "cell_type": "markdown",
      "metadata": {
        "id": "YjDU3nPNR7aY"
      },
      "source": [
        "### Gradient Boosting Tree"
      ]
    },
    {
      "cell_type": "code",
      "metadata": {
        "colab": {
          "base_uri": "https://localhost:8080/"
        },
        "id": "Th2bXrM97lT-",
        "outputId": "7702efbc-d075-4930-a208-819e626f613c"
      },
      "source": [
        "grad_train_acc = []\n",
        "grad_test_acc  = []\n",
        "for cnt in est_counts:\n",
        "    rf_model = GradientBoostingClassifier(n_estimators = cnt)\n",
        "    rf_model.fit(X_train, y_train)\n",
        "    grad_train_acc.append(rf_model.score(X_train, y_train))\n",
        "    grad_test_acc.append(rf_model.score(X_test, y_test))\n",
        "    print(\"Train: {:.5f}, Test: {:.5f}\".format(grad_train_acc[-1], grad_test_acc[-1]))"
      ],
      "execution_count": 47,
      "outputs": [
        {
          "output_type": "stream",
          "text": [
            "Train: 0.73156, Test: 0.73271\n",
            "Train: 0.74531, Test: 0.74875\n",
            "Train: 0.74821, Test: 0.74990\n",
            "Train: 0.75446, Test: 0.75281\n",
            "Train: 0.76089, Test: 0.75813\n",
            "Train: 0.77098, Test: 0.75969\n",
            "Train: 0.78241, Test: 0.76406\n",
            "Train: 0.79906, Test: 0.76948\n",
            "Train: 0.81871, Test: 0.77406\n",
            "Train: 0.84518, Test: 0.77833\n",
            "Train: 0.87754, Test: 0.77979\n",
            "Train: 0.91719, Test: 0.78365\n"
          ],
          "name": "stdout"
        }
      ]
    },
    {
      "cell_type": "code",
      "metadata": {
        "colab": {
          "base_uri": "https://localhost:8080/",
          "height": 558
        },
        "id": "Pn4zTyT79pmK",
        "outputId": "88579e14-a049-4f43-c995-f7874fd9b83c"
      },
      "source": [
        "plt.plot(est_counts, grad_train_acc, marker='.', ls = '-',  label='Train accuracy')\n",
        "plt.plot(est_counts, grad_test_acc,  marker='.', ls = '-',  label='Test accuracy' )\n",
        "plt.xscale(\"log\")\n",
        "plt.xticks(est_counts)\n",
        "plt.legend()"
      ],
      "execution_count": 48,
      "outputs": [
        {
          "output_type": "execute_result",
          "data": {
            "text/plain": [
              "<matplotlib.legend.Legend at 0x2bc188c98b0>"
            ]
          },
          "metadata": {
            "tags": []
          },
          "execution_count": 48
        },
        {
          "output_type": "display_data",
          "data": {
            "text/plain": [
              "<Figure size 1152x648 with 1 Axes>"
            ],
            "image/png": "[encoded data removed]"
          },
          "metadata": {
            "tags": []
          }
        }
      ]
    },
    {
      "cell_type": "markdown",
      "metadata": {
        "id": "PCdy4GqS5FNW"
      },
      "source": [
        "Градиентный бустинг показывает результат хуже, но здесь на первых этапах еще наблюдается недообучение, думаю причина в \"дискретности\" признаков."
      ]
    },
    {
      "cell_type": "code",
      "metadata": {
        "id": "uzbIyUkQo2mO"
      },
      "source": [
        "params = {'n_estimators': 2048, 'subsample': 0.5}\n",
        "clf = GradientBoostingClassifier(**params)\n",
        "\n",
        "clf.fit(X_train, y_train)\n",
        "acc = clf.score(X_test, y_test)\n",
        "print(\"Accuracy: {:.4f}\".format(acc))\n",
        "\n",
        "n_estimators = params['n_estimators']\n",
        "x = np.arange(n_estimators) + 1\n",
        "def heldout_score(clf, X_test, y_test):\n",
        "    \"\"\"compute deviance scores on ``X_test`` and ``y_test``. \"\"\"\n",
        "    score = np.zeros((n_estimators,), dtype=np.float64)\n",
        "    for i, y_pred in enumerate(clf.staged_decision_function(X_test)):\n",
        "        score[i] = clf.loss_(y_test, y_pred)\n",
        "    return score"
      ],
      "execution_count": null,
      "outputs": []
    },
    {
      "cell_type": "code",
      "metadata": {
        "colab": {
          "base_uri": "https://localhost:8080/"
        },
        "id": "RBhFodTXsUXV",
        "outputId": "99c92717-dd04-4967-b2fd-0d08e281ae22"
      },
      "source": [
        "print(\"Accuracy: {:.4f}\".format(acc))"
      ],
      "execution_count": 34,
      "outputs": [
        {
          "output_type": "stream",
          "text": [
            "Accuracy: 0.7853\n"
          ],
          "name": "stdout"
        }
      ]
    },
    {
      "cell_type": "code",
      "metadata": {
        "colab": {
          "base_uri": "https://localhost:8080/",
          "height": 568
        },
        "id": "CL8H8ydUp5vs",
        "outputId": "da157843-fc2e-4a45-e081-45352eb7c83d"
      },
      "source": [
        "from sklearn.model_selection import KFold\n",
        "from sklearn.model_selection import train_test_split\n",
        "\n",
        "from scipy.special import expit\n",
        "\n",
        "def cv_estimate(n_splits=None):\n",
        "    cv = KFold(n_splits=n_splits)\n",
        "    cv_clf = GradientBoostingClassifier(**params)\n",
        "    val_scores = np.zeros((n_estimators,), dtype=np.float64)\n",
        "    for train, test in cv.split(X_train, y_train):\n",
        "        cv_clf.fit(X_train.iloc[train], y_train.iloc[train])\n",
        "        val_scores += heldout_score(cv_clf, X_train.iloc[test], y_train.iloc[test])\n",
        "    val_scores /= n_splits\n",
        "    return val_scores\n",
        "\n",
        "cv_score = cv_estimate(3)\n",
        "test_score = heldout_score(clf, X_test, y_test)\n",
        "cumsum = -np.cumsum(clf.oob_improvement_)\n",
        "\n",
        "oob_best_iter = x[np.argmin(cumsum)]\n",
        "test_score -= test_score[0]\n",
        "test_best_iter = x[np.argmin(test_score)]\n",
        "cv_score -= cv_score[0]\n",
        "cv_best_iter = x[np.argmin(cv_score)]\n",
        "\n",
        "oob_color = list(map(lambda x: x / 256.0, (190, 174, 212)))\n",
        "test_color = list(map(lambda x: x / 256.0, (127, 201, 127)))\n",
        "cv_color = list(map(lambda x: x / 256.0, (253, 192, 134)))\n",
        "\n",
        "plt.plot(x, cumsum, label='OOB loss', color=oob_color)\n",
        "plt.plot(x, test_score, label='Test loss', color=test_color)\n",
        "plt.plot(x, cv_score, label='CV loss', color=cv_color)\n",
        "plt.axvline(x=oob_best_iter, color=oob_color)\n",
        "plt.axvline(x=test_best_iter, color=test_color)\n",
        "plt.axvline(x=cv_best_iter, color=cv_color)\n",
        "\n",
        "xticks = plt.xticks()\n",
        "xticks_pos = np.array(xticks[0].tolist() +\n",
        "                      [oob_best_iter, cv_best_iter, test_best_iter])\n",
        "xticks_label = np.array(list(map(lambda t: int(t), xticks[0])) +\n",
        "                        ['OOB', 'CV', 'Test'])\n",
        "ind = np.argsort(xticks_pos)\n",
        "xticks_pos = xticks_pos[ind]\n",
        "xticks_label = xticks_label[ind]\n",
        "plt.xticks(xticks_pos, xticks_label)\n",
        "\n",
        "plt.legend(loc='upper right')\n",
        "plt.ylabel('normalized loss')\n",
        "plt.xlabel('number of iterations')"
      ],
      "execution_count": 32,
      "outputs": [
        {
          "output_type": "execute_result",
          "data": {
            "text/plain": [
              "Text(0.5, 0, 'number of iterations')"
            ]
          },
          "metadata": {
            "tags": []
          },
          "execution_count": 32
        },
        {
          "output_type": "display_data",
          "data": {
            "text/plain": [
              "<Figure size 1152x648 with 1 Axes>"
            ],
            "image/png": "[encoded data removed]"
          },
          "metadata": {
            "tags": []
          }
        }
      ]
    },
    {
      "cell_type": "code",
      "metadata": {
        "colab": {
          "base_uri": "https://localhost:8080/"
        },
        "id": "b5Q3yuhkr6Xt",
        "outputId": "0da19377-cb1c-4e0e-bb94-c8670f4cdf2d"
      },
      "source": [
        "[oob_best_iter, cv_best_iter, test_best_iter]"
      ],
      "execution_count": 33,
      "outputs": [
        {
          "output_type": "execute_result",
          "data": {
            "text/plain": [
              "[138, 470, 1518]"
            ]
          },
          "metadata": {
            "tags": []
          },
          "execution_count": 33
        }
      ]
    },
    {
      "cell_type": "markdown",
      "metadata": {
        "id": "9YSypn5-54-0"
      },
      "source": [
        "Out-of-bag (OOB) estimates can be a useful heuristic to estimate the “optimal” number of boosting iterations.   \n",
        "Видно, что даже при валидации на тестовой выборке число оценивателей равно 1.5к, но не улучшает результат случайного леса или MLP. А эвристика на основе OOB сопоставима с предыдущим графиком, когда началось переобучение."
      ]
    },
    {
      "cell_type": "markdown",
      "metadata": {
        "id": "jstufiuc6VkT"
      },
      "source": [
        "### Conclusions"
      ]
    },
    {
      "cell_type": "markdown",
      "metadata": {
        "id": "xQVY-cZI6YnT"
      },
      "source": [
        "Лучше всех сна данном датасете себя проявили MLP & RandomForest классификаторы, что вполне закономерно учитывая разнородность и большое количество признаков."
      ]
    },
    {
      "cell_type": "markdown",
      "metadata": {
        "id": "S7ee7FbPKQeh"
      },
      "source": [
        "### KMeans"
      ]
    },
    {
      "cell_type": "code",
      "metadata": {
        "colab": {
          "base_uri": "https://localhost:8080/"
        },
        "id": "XQPszONSNXdx",
        "outputId": "197c55be-142d-4555-b0ef-4541d797480b"
      },
      "source": [
        "from sklearn.cluster import KMeans\n",
        "\n",
        "kmeans = KMeans(n_clusters=2, random_state=42, max_iter=512).fit(X)\n",
        "print('Accuracy: {}'.format(np.sum(y == kmeans.labels_) / y.count()))"
      ],
      "execution_count": null,
      "outputs": [
        {
          "output_type": "stream",
          "text": [
            "Accuracy: 0.5547014132832285\n"
          ],
          "name": "stdout"
        }
      ]
    },
    {
      "cell_type": "code",
      "metadata": {
        "colab": {
          "base_uri": "https://localhost:8080/",
          "height": 722
        },
        "id": "18Rrluz9PjY5",
        "outputId": "c4a8f34a-e888-451d-940b-831135e3dc31"
      },
      "source": [
        "from sklearn.metrics import confusion_matrix\n",
        "plot_confusion_matrix(confusion_matrix(y, kmeans.labels_), ['CT', 'T'])"
      ],
      "execution_count": null,
      "outputs": [
        {
          "output_type": "stream",
          "text": [
            "Confusion matrix, without normalization\n",
            "[[40034 22372]\n",
            " [32137 27867]]\n"
          ],
          "name": "stdout"
        },
        {
          "output_type": "display_data",
          "data": {
            "image/png": "[encoded data removed]",
            "text/plain": [
              "<Figure size 1152x648 with 2 Axes>"
            ]
          },
          "metadata": {
            "tags": []
          }
        }
      ]
    },
    {
      "cell_type": "markdown",
      "metadata": {
        "id": "wqTbwc0s-3T8"
      },
      "source": [
        "Точность не велика, большое количество признаков и плохая отделимость."
      ]
    },
    {
      "cell_type": "markdown",
      "metadata": {
        "id": "qzROZq0VUsry"
      },
      "source": [
        "###DBSCAN"
      ]
    },
    {
      "cell_type": "code",
      "metadata": {
        "colab": {
          "base_uri": "https://localhost:8080/"
        },
        "id": "wDrUKj_FTXkx",
        "outputId": "e6aa1db0-0ff6-4732-f3ad-22d7dd824f0c"
      },
      "source": [
        "%%time\n",
        "dbscan = DBSCAN().fit(X)\n",
        "print(f'Labels {np.unique(dbscan.labels_)}')\n",
        "print(f'Accuracy is {np.sum(y == dbscan.labels_)/y.shape[0]}')"
      ],
      "execution_count": null,
      "outputs": [
        {
          "output_type": "stream",
          "text": [
            "Labels [-1  0  1  2  3  4  5]\n",
            "Accuracy is 0.0017\n",
            "Wall time: 21.5 s\n"
          ],
          "name": "stdout"
        }
      ]
    },
    {
      "cell_type": "code",
      "metadata": {
        "colab": {
          "base_uri": "https://localhost:8080/"
        },
        "id": "JX-uuu7dXDj5",
        "outputId": "d013c071-f958-484d-b79d-ee7dc40bd40b"
      },
      "source": [
        "eps_counts = [x for x in range(3, 15, 2) ] + [20, 50]\n",
        "eps_counts[:]"
      ],
      "execution_count": null,
      "outputs": [
        {
          "output_type": "execute_result",
          "data": {
            "text/plain": [
              "[3, 5, 7, 9, 11, 13, 20, 50]"
            ]
          },
          "metadata": {
            "tags": []
          },
          "execution_count": 16
        }
      ]
    },
    {
      "cell_type": "code",
      "metadata": {
        "id": "5LkQYxMxXdGo",
        "colab": {
          "base_uri": "https://localhost:8080/"
        },
        "outputId": "d51c8ad8-3bff-4666-b8d9-5751fbe15844"
      },
      "source": [
        "labels = []\n",
        "accuracy = []\n",
        "for eps in eps_counts[:]:\n",
        "    dbscan = DBSCAN(eps = eps, n_jobs = 12).fit(X)\n",
        "    labels.append(np.unique(dbscan.labels_))\n",
        "    accuracy.append(np.sum(np.sum(y == dbscan.labels_) / y.count()))\n",
        "    print(\"Accuracy {}\".format(accuracy[-1]))"
      ],
      "execution_count": null,
      "outputs": [
        {
          "output_type": "stream",
          "text": [
            "Accuracy 0.03040625\n",
            "Accuracy 0.41559375\n",
            "Accuracy 0.51\n",
            "Accuracy 0.51171875\n",
            "Accuracy 0.51175\n",
            "Accuracy 0.51175\n",
            "Accuracy 0.51175\n",
            "Accuracy 0.51128125\n"
          ],
          "name": "stdout"
        }
      ]
    },
    {
      "cell_type": "code",
      "metadata": {
        "colab": {
          "base_uri": "https://localhost:8080/"
        },
        "id": "AI7LUgXT4Hwq",
        "outputId": "abd9ee49-3452-4ce9-c67d-6bb50e470911"
      },
      "source": [
        "labels"
      ],
      "execution_count": null,
      "outputs": [
        {
          "output_type": "execute_result",
          "data": {
            "text/plain": [
              "[array([-1,  0,  1,  2,  3,  4,  5,  6,  7,  8,  9, 10, 11, 12, 13, 14, 15,\n",
              "        16, 17, 18, 19, 20, 21, 22, 23, 24, 25, 26, 27, 28, 29, 30, 31, 32,\n",
              "        33, 34, 35, 36, 37, 38, 39, 40, 41, 42, 43, 44, 45, 46, 47, 48, 49,\n",
              "        50, 51, 52, 53, 54, 55, 56, 57, 58, 59, 60, 61, 62, 63, 64],\n",
              "       dtype=int64),\n",
              " array([-1,  0,  1,  2,  3,  4,  5,  6,  7,  8,  9, 10, 11, 12, 13, 14, 15,\n",
              "        16, 17, 18, 19, 20, 21, 22, 23, 24, 25, 26, 27, 28, 29, 30, 31, 32,\n",
              "        33, 34, 35, 36, 37, 38, 39, 40, 41, 42, 43, 44, 45, 46, 47, 48, 49,\n",
              "        50, 51, 52, 53, 54, 55, 56, 57, 58, 59, 60, 61, 62, 63, 64, 65],\n",
              "       dtype=int64),\n",
              " array([-1,  0,  1], dtype=int64),\n",
              " array([-1,  0,  1], dtype=int64),\n",
              " array([0, 1], dtype=int64),\n",
              " array([0, 1], dtype=int64),\n",
              " array([0, 1], dtype=int64),\n",
              " array([0], dtype=int64)]"
            ]
          },
          "metadata": {
            "tags": []
          },
          "execution_count": 59
        }
      ]
    },
    {
      "cell_type": "markdown",
      "metadata": {
        "id": "XwpoMyOL_EIT"
      },
      "source": [
        "Увеличение расстояния немного помогает, но лучшая точность в итоге достигается просто отнесением всех данных к одному, более популярному, классу..."
      ]
    },
    {
      "cell_type": "markdown",
      "metadata": {
        "id": "C4U5XhML7CSv"
      },
      "source": [
        "#### Additional calcs"
      ]
    },
    {
      "cell_type": "markdown",
      "metadata": {
        "id": "_KS3S6m9BNQx"
      },
      "source": [
        "Accuracy 0.027563107589249243\n",
        "Accuracy 0.4776407156278082\n",
        "Accuracy 0.5101789069520464"
      ]
    },
    {
      "cell_type": "code",
      "metadata": {
        "colab": {
          "base_uri": "https://localhost:8080/"
        },
        "id": "7YF1sQkf-9sr",
        "outputId": "8e72e3e1-cc33-474f-913f-0c53e5ffb385"
      },
      "source": [
        "labels_counts = [len(x) for x in labels]\n",
        "labels_counts"
      ],
      "execution_count": null,
      "outputs": [
        {
          "output_type": "execute_result",
          "data": {
            "text/plain": [
              "[66, 67, 3, 3, 2, 2, 2, 1]"
            ]
          },
          "metadata": {
            "tags": []
          },
          "execution_count": 61
        }
      ]
    },
    {
      "cell_type": "code",
      "metadata": {
        "colab": {
          "base_uri": "https://localhost:8080/"
        },
        "id": "FttUtikyZgYY",
        "outputId": "36e2866d-b006-4b4f-b632-bbad01a6393b"
      },
      "source": [
        "accuracy"
      ],
      "execution_count": null,
      "outputs": [
        {
          "output_type": "execute_result",
          "data": {
            "text/plain": [
              "[0.03040625,\n",
              " 0.41559375,\n",
              " 0.51,\n",
              " 0.51171875,\n",
              " 0.51175,\n",
              " 0.51175,\n",
              " 0.51175,\n",
              " 0.51128125]"
            ]
          },
          "metadata": {
            "tags": []
          },
          "execution_count": 60
        }
      ]
    },
    {
      "cell_type": "code",
      "metadata": {
        "colab": {
          "base_uri": "https://localhost:8080/"
        },
        "id": "Jn2iEN6x_oMa",
        "outputId": "3097a0dd-ad80-49e1-fca7-ab8f51f10890"
      },
      "source": [
        "labels = []\n",
        "accuracy = []\n",
        "eps_counts = [5 + x*0.25 for x in range(1, 8)]\n",
        "print(eps_counts)\n",
        "for eps in eps_counts[:]:\n",
        "    dbscan = DBSCAN(eps = eps, n_jobs = 12).fit(X)\n",
        "    labels.append(np.unique(dbscan.labels_))\n",
        "    accuracy.append(np.sum(np.sum(y == dbscan.labels_) / y.count()))\n",
        "    print(\"Accuracy {}\".format(accuracy[-1]))"
      ],
      "execution_count": null,
      "outputs": [
        {
          "output_type": "stream",
          "text": [
            "[5.25, 5.5, 5.75, 6.0, 6.25, 6.5, 6.75]\n",
            "Accuracy 0.4475\n",
            "Accuracy 0.46828125\n",
            "Accuracy 0.482375\n",
            "Accuracy 0.49346875\n",
            "Accuracy 0.50096875\n",
            "Accuracy 0.50575\n",
            "Accuracy 0.5081875\n"
          ],
          "name": "stdout"
        }
      ]
    },
    {
      "cell_type": "code",
      "metadata": {
        "colab": {
          "base_uri": "https://localhost:8080/"
        },
        "id": "dkGfAneGG_ai",
        "outputId": "528b5f2c-1250-42ff-fddb-b61957deb59b"
      },
      "source": [
        "labels"
      ],
      "execution_count": null,
      "outputs": [
        {
          "output_type": "execute_result",
          "data": {
            "text/plain": [
              "[array([-1,  0,  1,  2,  3,  4,  5,  6,  7,  8,  9, 10, 11, 12, 13, 14, 15,\n",
              "        16, 17, 18, 19, 20, 21, 22, 23, 24, 25, 26, 27, 28, 29, 30, 31, 32,\n",
              "        33, 34, 35, 36, 37, 38, 39, 40], dtype=int64),\n",
              " array([-1,  0,  1,  2,  3,  4,  5,  6,  7,  8,  9, 10, 11, 12, 13, 14, 15,\n",
              "        16, 17, 18, 19, 20, 21, 22, 23, 24, 25, 26, 27], dtype=int64),\n",
              " array([-1,  0,  1,  2,  3,  4,  5,  6,  7,  8,  9, 10, 11, 12, 13, 14, 15,\n",
              "        16, 17, 18, 19, 20, 21], dtype=int64),\n",
              " array([-1,  0,  1,  2,  3,  4,  5,  6,  7,  8], dtype=int64),\n",
              " array([-1,  0,  1,  2,  3,  4,  5], dtype=int64),\n",
              " array([-1,  0,  1,  2], dtype=int64),\n",
              " array([-1,  0,  1], dtype=int64)]"
            ]
          },
          "metadata": {
            "tags": []
          },
          "execution_count": 69
        }
      ]
    },
    {
      "cell_type": "code",
      "metadata": {
        "colab": {
          "base_uri": "https://localhost:8080/"
        },
        "id": "4kMr5uW5Nw_J",
        "outputId": "c8e451e9-779a-4ce5-c763-7cd4f388928a"
      },
      "source": [
        "accuracy"
      ],
      "execution_count": null,
      "outputs": [
        {
          "output_type": "execute_result",
          "data": {
            "text/plain": [
              "[0.4475, 0.46828125, 0.482375, 0.49346875, 0.50096875, 0.50575, 0.5081875]"
            ]
          },
          "metadata": {
            "tags": []
          },
          "execution_count": 70
        }
      ]
    },
    {
      "cell_type": "code",
      "metadata": {
        "id": "cwxH07gbNqD7"
      },
      "source": [
        "accuracy = [0.03040625,\n",
        " 0.41559375,\n",
        " 0.4475,\n",
        " 0.46828125,\n",
        " 0.482375,\n",
        " 0.49346875,\n",
        " 0.50096875,\n",
        " 0.50575,\n",
        " 0.5081875,\n",
        " 0.51,\n",
        " 0.51171875,\n",
        " 0.51175,\n",
        " 0.51175,\n",
        " 0.51175,\n",
        " 0.51128125]"
      ],
      "execution_count": null,
      "outputs": []
    },
    {
      "cell_type": "code",
      "metadata": {
        "id": "SWcC9zBNN5H5"
      },
      "source": [
        "eps_counts = [3, 5, 5.25, 5.5, 5.75, 6.0, 6.25, 6.5, 6.75, 7, 9, 11, 13, 20, 50]"
      ],
      "execution_count": null,
      "outputs": []
    },
    {
      "cell_type": "markdown",
      "metadata": {
        "id": "-6ea3u1u6r23"
      },
      "source": [
        "#### Results"
      ]
    },
    {
      "cell_type": "code",
      "metadata": {
        "colab": {
          "base_uri": "https://localhost:8080/",
          "height": 558
        },
        "id": "RYVetxOU-0lq",
        "outputId": "983edcaf-adf2-4e1c-a70d-a5814c48c1f1"
      },
      "source": [
        "plt.plot(eps_counts, accuracy, marker='.', ls = '-',  label='Accuracy')\n",
        "plt.xscale(\"log\")\n",
        "plt.xticks(eps_counts)\n",
        "plt.legend()"
      ],
      "execution_count": null,
      "outputs": [
        {
          "output_type": "execute_result",
          "data": {
            "text/plain": [
              "<matplotlib.legend.Legend at 0x2408e03d310>"
            ]
          },
          "metadata": {
            "tags": []
          },
          "execution_count": 76
        },
        {
          "output_type": "display_data",
          "data": {
            "text/plain": [
              "<Figure size 1152x648 with 1 Axes>"
            ],
            "image/png": "[encoded data removed]"
          },
          "metadata": {
            "tags": []
          }
        }
      ]
    },
    {
      "cell_type": "markdown",
      "metadata": {
        "id": "kBpmDGUi7LlO"
      },
      "source": [
        "####PCA"
      ]
    },
    {
      "cell_type": "code",
      "metadata": {
        "colab": {
          "base_uri": "https://localhost:8080/"
        },
        "id": "N0Xq5x1FHawP",
        "outputId": "1bc00c9e-d020-4f08-a21a-067082313f99"
      },
      "source": [
        "%%time\n",
        "pca3 = PCA(n_components = 7)\n",
        "pca3.fit(X, y)\n",
        "X_pca = pca3.transform(X)"
      ],
      "execution_count": null,
      "outputs": [
        {
          "output_type": "stream",
          "text": [
            "Wall time: 173 ms\n"
          ],
          "name": "stdout"
        }
      ]
    },
    {
      "cell_type": "code",
      "metadata": {
        "colab": {
          "base_uri": "https://localhost:8080/"
        },
        "id": "DlOG8qr3Hg3u",
        "outputId": "f7937d24-64b9-47fe-e017-8df37da78835"
      },
      "source": [
        "%%time\n",
        "labels = []\n",
        "accuracy = []\n",
        "for eps in eps_counts[:]:\n",
        "    dbscan = DBSCAN(eps = eps, n_jobs = 12).fit(X)\n",
        "    labels.append(np.unique(dbscan.labels_))\n",
        "    accuracy.append(np.sum(np.sum(y == dbscan.labels_) / y.count()))\n",
        "    print(\"Accuracy {}\".format(accuracy[-1]))\n",
        "    print(\"Labels {}\".format(len(labels[-1])))"
      ],
      "execution_count": null,
      "outputs": [
        {
          "output_type": "stream",
          "text": [
            "Accuracy 0.02496875\n",
            "Labels 72\n",
            "Accuracy 0.4174375\n",
            "Labels 68\n",
            "Accuracy 0.51340625\n",
            "Labels 4\n",
            "Accuracy 0.51575\n",
            "Labels 3\n",
            "Accuracy 0.51575\n",
            "Labels 2\n",
            "Accuracy 0.51575\n",
            "Labels 2\n",
            "Accuracy 0.51575\n",
            "Labels 2\n",
            "Accuracy 0.5153125\n",
            "Labels 1\n",
            "Wall time: 8min 4s\n"
          ],
          "name": "stdout"
        }
      ]
    },
    {
      "cell_type": "markdown",
      "metadata": {
        "id": "SM0Oocuf_eFF"
      },
      "source": [
        "Как видно, PCA не помог"
      ]
    },
    {
      "cell_type": "markdown",
      "metadata": {
        "id": "AoS-03kePMS3"
      },
      "source": [
        "### Birch\n"
      ]
    },
    {
      "cell_type": "code",
      "metadata": {
        "colab": {
          "base_uri": "https://localhost:8080/"
        },
        "id": "1YUMJssqPPPA",
        "outputId": "675dde2a-ffbb-4edc-8239-3388793945a3"
      },
      "source": [
        "%%time\n",
        "from sklearn.cluster import Birch\n",
        "brc = Birch(n_clusters=2)\n",
        "brc.fit(X)\n",
        "labels = brc.predict(X)"
      ],
      "execution_count": null,
      "outputs": [
        {
          "output_type": "stream",
          "text": [
            "Wall time: 1min 50s\n"
          ],
          "name": "stdout"
        }
      ]
    },
    {
      "cell_type": "code",
      "metadata": {
        "colab": {
          "base_uri": "https://localhost:8080/"
        },
        "id": "bJhegWYuPpnX",
        "outputId": "fc6fce98-acbf-4eca-fa10-362c1426895a"
      },
      "source": [
        "print('Accuracy: {}'.format(np.sum(y == labels) / y.count()))"
      ],
      "execution_count": null,
      "outputs": [
        {
          "output_type": "stream",
          "text": [
            "Accuracy: 0.517\n"
          ],
          "name": "stdout"
        }
      ]
    },
    {
      "cell_type": "markdown",
      "metadata": {
        "id": "Bgbls61D_hHL"
      },
      "source": [
        "### Concl"
      ]
    },
    {
      "cell_type": "markdown",
      "metadata": {
        "id": "WIhLq4Mx_m4T"
      },
      "source": [
        "Из-за большого количества плохоотделимых признаков методы кластеризации на данном наборе данных показывают плохие результаты."
      ]
    }
  ]
}
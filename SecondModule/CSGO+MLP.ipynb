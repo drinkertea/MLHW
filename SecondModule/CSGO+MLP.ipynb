{
  "nbformat": 4,
  "nbformat_minor": 0,
  "metadata": {
    "colab": {
      "name": "CSGO+MLP.ipynb",
      "provenance": [],
      "collapsed_sections": [
        "e6HxNrz6zEPC",
        "mwZHUjvi1-1u",
        "QPo5jlr1SVK3",
        "ISU-eW7B5-_s",
        "AwceyUxu6GLl",
        "WWT2gkz0Bs_X",
        "5OTp0h9j5029"
      ]
    },
    "kernelspec": {
      "display_name": "Python 3",
      "name": "python3"
    }
  },
  "cells": [
    {
      "cell_type": "markdown",
      "metadata": {
        "id": "e6HxNrz6zEPC"
      },
      "source": [
        "###Load processed dataset and normalization"
      ]
    },
    {
      "cell_type": "code",
      "metadata": {
        "colab": {
          "base_uri": "https://localhost:8080/"
        },
        "id": "Bnowe1JMp5EV",
        "outputId": "5b1f1c9b-3371-4bfa-a109-c05e706f95f1"
      },
      "source": [
        "from google.colab import drive\n",
        "drive.mount('/content/drive')"
      ],
      "execution_count": 1,
      "outputs": [
        {
          "output_type": "stream",
          "text": [
            "Mounted at /content/drive\n"
          ],
          "name": "stdout"
        }
      ]
    },
    {
      "cell_type": "code",
      "metadata": {
        "id": "6hx5fy5fptup"
      },
      "source": [
        "import numpy as np\n",
        "import matplotlib\n",
        "import matplotlib.pyplot as plt\n",
        "%matplotlib inline \n",
        "import pandas as pd\n",
        "import seaborn as sns\n",
        "import sklearn\n",
        "from sklearn.decomposition import PCA\n",
        "from sklearn.model_selection import train_test_split\n",
        "from sklearn.neighbors import KNeighborsClassifier\n",
        "from sklearn.metrics import r2_score, accuracy_score\n",
        "from sklearn.svm import LinearSVC, SVC\n",
        "from sklearn.ensemble import RandomForestClassifier\n",
        "from sklearn.multiclass import OneVsRestClassifier, OneVsOneClassifier\n",
        "from sklearn.neural_network import MLPClassifier\n",
        "\n",
        "# Comment this line if you use light color scheme\n",
        "plt.style.use('dark_background')\n",
        "matplotlib.rcParams['figure.figsize'] = (16, 9)"
      ],
      "execution_count": 2,
      "outputs": []
    },
    {
      "cell_type": "code",
      "metadata": {
        "id": "mnAASVPApwmE"
      },
      "source": [
        "data_ready = pd.read_csv('drive/MyDrive/csgo_data_processed_unnorm.csv')"
      ],
      "execution_count": 3,
      "outputs": []
    },
    {
      "cell_type": "code",
      "metadata": {
        "colab": {
          "base_uri": "https://localhost:8080/"
        },
        "id": "Pw0AmNpZp-n7",
        "outputId": "6413bbee-fed3-4c51-bb9b-70f8f8deb8a5"
      },
      "source": [
        "data_ready.shape"
      ],
      "execution_count": 4,
      "outputs": [
        {
          "output_type": "execute_result",
          "data": {
            "text/plain": [
              "(122410, 58)"
            ]
          },
          "metadata": {
            "tags": []
          },
          "execution_count": 4
        }
      ]
    },
    {
      "cell_type": "code",
      "metadata": {
        "colab": {
          "base_uri": "https://localhost:8080/",
          "height": 224
        },
        "id": "gkW1uVQHsiOs",
        "outputId": "e2438959-d655-419e-af19-62c801fc2b8d"
      },
      "source": [
        "data_ready = data_ready.drop(data_ready.columns[0], axis=1)\n",
        "data_ready.head()"
      ],
      "execution_count": 5,
      "outputs": [
        {
          "output_type": "execute_result",
          "data": {
            "text/html": [
              "<div>\n",
              "<style scoped>\n",
              "    .dataframe tbody tr th:only-of-type {\n",
              "        vertical-align: middle;\n",
              "    }\n",
              "\n",
              "    .dataframe tbody tr th {\n",
              "        vertical-align: top;\n",
              "    }\n",
              "\n",
              "    .dataframe thead th {\n",
              "        text-align: right;\n",
              "    }\n",
              "</style>\n",
              "<table border=\"1\" class=\"dataframe\">\n",
              "  <thead>\n",
              "    <tr style=\"text-align: right;\">\n",
              "      <th></th>\n",
              "      <th>de_cache</th>\n",
              "      <th>de_dust2</th>\n",
              "      <th>de_inferno</th>\n",
              "      <th>de_mirage</th>\n",
              "      <th>de_nuke</th>\n",
              "      <th>de_overpass</th>\n",
              "      <th>de_train</th>\n",
              "      <th>de_vertigo</th>\n",
              "      <th>time_left</th>\n",
              "      <th>ct_score</th>\n",
              "      <th>t_score</th>\n",
              "      <th>bomb_planted</th>\n",
              "      <th>ct_health</th>\n",
              "      <th>t_health</th>\n",
              "      <th>ct_armor</th>\n",
              "      <th>t_armor</th>\n",
              "      <th>ct_money</th>\n",
              "      <th>t_money</th>\n",
              "      <th>ct_helmets</th>\n",
              "      <th>t_helmets</th>\n",
              "      <th>ct_defuse_kits</th>\n",
              "      <th>ct_players_alive</th>\n",
              "      <th>t_players_alive</th>\n",
              "      <th>round_winner</th>\n",
              "      <th>ct_weapon_ak47</th>\n",
              "      <th>t_weapon_ak47</th>\n",
              "      <th>ct_weapon_aug</th>\n",
              "      <th>ct_weapon_awp</th>\n",
              "      <th>t_weapon_awp</th>\n",
              "      <th>ct_weapon_cz75auto</th>\n",
              "      <th>t_weapon_cz75auto</th>\n",
              "      <th>ct_weapon_famas</th>\n",
              "      <th>t_weapon_galilar</th>\n",
              "      <th>t_weapon_glock</th>\n",
              "      <th>ct_weapon_m4a1s</th>\n",
              "      <th>ct_weapon_m4a4</th>\n",
              "      <th>t_weapon_mac10</th>\n",
              "      <th>ct_weapon_mp9</th>\n",
              "      <th>ct_weapon_sg553</th>\n",
              "      <th>t_weapon_sg553</th>\n",
              "      <th>ct_weapon_ssg08</th>\n",
              "      <th>ct_weapon_deagle</th>\n",
              "      <th>t_weapon_deagle</th>\n",
              "      <th>ct_weapon_fiveseven</th>\n",
              "      <th>ct_weapon_usps</th>\n",
              "      <th>t_weapon_usps</th>\n",
              "      <th>ct_weapon_p250</th>\n",
              "      <th>t_weapon_p250</th>\n",
              "      <th>ct_weapon_p2000</th>\n",
              "      <th>ct_grenade_hegrenade</th>\n",
              "      <th>t_grenade_hegrenade</th>\n",
              "      <th>ct_grenade_flashbang</th>\n",
              "      <th>t_grenade_flashbang</th>\n",
              "      <th>ct_grenade_smokegrenade</th>\n",
              "      <th>t_grenade_smokegrenade</th>\n",
              "      <th>ct_grenade_incendiarygrenade</th>\n",
              "      <th>t_grenade_molotovgrenade</th>\n",
              "    </tr>\n",
              "  </thead>\n",
              "  <tbody>\n",
              "    <tr>\n",
              "      <th>0</th>\n",
              "      <td>0</td>\n",
              "      <td>1</td>\n",
              "      <td>0</td>\n",
              "      <td>0</td>\n",
              "      <td>0</td>\n",
              "      <td>0</td>\n",
              "      <td>0</td>\n",
              "      <td>0</td>\n",
              "      <td>175.00</td>\n",
              "      <td>0.0</td>\n",
              "      <td>0.0</td>\n",
              "      <td>0</td>\n",
              "      <td>500.0</td>\n",
              "      <td>500.0</td>\n",
              "      <td>0.0</td>\n",
              "      <td>0.0</td>\n",
              "      <td>4000.0</td>\n",
              "      <td>4000.0</td>\n",
              "      <td>0.0</td>\n",
              "      <td>0.0</td>\n",
              "      <td>0.0</td>\n",
              "      <td>5.0</td>\n",
              "      <td>5.0</td>\n",
              "      <td>CT</td>\n",
              "      <td>0.0</td>\n",
              "      <td>0.0</td>\n",
              "      <td>0.0</td>\n",
              "      <td>0.0</td>\n",
              "      <td>0.0</td>\n",
              "      <td>0.0</td>\n",
              "      <td>0.0</td>\n",
              "      <td>0.0</td>\n",
              "      <td>0.0</td>\n",
              "      <td>5.0</td>\n",
              "      <td>0.0</td>\n",
              "      <td>0.0</td>\n",
              "      <td>0.0</td>\n",
              "      <td>0.0</td>\n",
              "      <td>0.0</td>\n",
              "      <td>0.0</td>\n",
              "      <td>0.0</td>\n",
              "      <td>0.0</td>\n",
              "      <td>0.0</td>\n",
              "      <td>0.0</td>\n",
              "      <td>4.0</td>\n",
              "      <td>0.0</td>\n",
              "      <td>0.0</td>\n",
              "      <td>0.0</td>\n",
              "      <td>1.0</td>\n",
              "      <td>0.0</td>\n",
              "      <td>0.0</td>\n",
              "      <td>0.0</td>\n",
              "      <td>0.0</td>\n",
              "      <td>0.0</td>\n",
              "      <td>0.0</td>\n",
              "      <td>0.0</td>\n",
              "      <td>0.0</td>\n",
              "    </tr>\n",
              "    <tr>\n",
              "      <th>1</th>\n",
              "      <td>0</td>\n",
              "      <td>1</td>\n",
              "      <td>0</td>\n",
              "      <td>0</td>\n",
              "      <td>0</td>\n",
              "      <td>0</td>\n",
              "      <td>0</td>\n",
              "      <td>0</td>\n",
              "      <td>156.03</td>\n",
              "      <td>0.0</td>\n",
              "      <td>0.0</td>\n",
              "      <td>0</td>\n",
              "      <td>500.0</td>\n",
              "      <td>500.0</td>\n",
              "      <td>400.0</td>\n",
              "      <td>300.0</td>\n",
              "      <td>600.0</td>\n",
              "      <td>650.0</td>\n",
              "      <td>0.0</td>\n",
              "      <td>0.0</td>\n",
              "      <td>1.0</td>\n",
              "      <td>5.0</td>\n",
              "      <td>5.0</td>\n",
              "      <td>CT</td>\n",
              "      <td>0.0</td>\n",
              "      <td>0.0</td>\n",
              "      <td>0.0</td>\n",
              "      <td>0.0</td>\n",
              "      <td>0.0</td>\n",
              "      <td>0.0</td>\n",
              "      <td>0.0</td>\n",
              "      <td>0.0</td>\n",
              "      <td>0.0</td>\n",
              "      <td>5.0</td>\n",
              "      <td>0.0</td>\n",
              "      <td>0.0</td>\n",
              "      <td>0.0</td>\n",
              "      <td>0.0</td>\n",
              "      <td>0.0</td>\n",
              "      <td>0.0</td>\n",
              "      <td>0.0</td>\n",
              "      <td>0.0</td>\n",
              "      <td>0.0</td>\n",
              "      <td>0.0</td>\n",
              "      <td>4.0</td>\n",
              "      <td>0.0</td>\n",
              "      <td>0.0</td>\n",
              "      <td>0.0</td>\n",
              "      <td>1.0</td>\n",
              "      <td>0.0</td>\n",
              "      <td>0.0</td>\n",
              "      <td>0.0</td>\n",
              "      <td>0.0</td>\n",
              "      <td>0.0</td>\n",
              "      <td>2.0</td>\n",
              "      <td>0.0</td>\n",
              "      <td>0.0</td>\n",
              "    </tr>\n",
              "    <tr>\n",
              "      <th>2</th>\n",
              "      <td>0</td>\n",
              "      <td>1</td>\n",
              "      <td>0</td>\n",
              "      <td>0</td>\n",
              "      <td>0</td>\n",
              "      <td>0</td>\n",
              "      <td>0</td>\n",
              "      <td>0</td>\n",
              "      <td>96.03</td>\n",
              "      <td>0.0</td>\n",
              "      <td>0.0</td>\n",
              "      <td>0</td>\n",
              "      <td>391.0</td>\n",
              "      <td>400.0</td>\n",
              "      <td>294.0</td>\n",
              "      <td>200.0</td>\n",
              "      <td>750.0</td>\n",
              "      <td>500.0</td>\n",
              "      <td>0.0</td>\n",
              "      <td>0.0</td>\n",
              "      <td>1.0</td>\n",
              "      <td>4.0</td>\n",
              "      <td>4.0</td>\n",
              "      <td>CT</td>\n",
              "      <td>0.0</td>\n",
              "      <td>0.0</td>\n",
              "      <td>0.0</td>\n",
              "      <td>0.0</td>\n",
              "      <td>0.0</td>\n",
              "      <td>0.0</td>\n",
              "      <td>0.0</td>\n",
              "      <td>0.0</td>\n",
              "      <td>0.0</td>\n",
              "      <td>4.0</td>\n",
              "      <td>0.0</td>\n",
              "      <td>0.0</td>\n",
              "      <td>0.0</td>\n",
              "      <td>0.0</td>\n",
              "      <td>0.0</td>\n",
              "      <td>0.0</td>\n",
              "      <td>0.0</td>\n",
              "      <td>0.0</td>\n",
              "      <td>0.0</td>\n",
              "      <td>0.0</td>\n",
              "      <td>4.0</td>\n",
              "      <td>0.0</td>\n",
              "      <td>0.0</td>\n",
              "      <td>0.0</td>\n",
              "      <td>0.0</td>\n",
              "      <td>0.0</td>\n",
              "      <td>0.0</td>\n",
              "      <td>0.0</td>\n",
              "      <td>0.0</td>\n",
              "      <td>0.0</td>\n",
              "      <td>2.0</td>\n",
              "      <td>0.0</td>\n",
              "      <td>0.0</td>\n",
              "    </tr>\n",
              "    <tr>\n",
              "      <th>3</th>\n",
              "      <td>0</td>\n",
              "      <td>1</td>\n",
              "      <td>0</td>\n",
              "      <td>0</td>\n",
              "      <td>0</td>\n",
              "      <td>0</td>\n",
              "      <td>0</td>\n",
              "      <td>0</td>\n",
              "      <td>76.03</td>\n",
              "      <td>0.0</td>\n",
              "      <td>0.0</td>\n",
              "      <td>0</td>\n",
              "      <td>391.0</td>\n",
              "      <td>400.0</td>\n",
              "      <td>294.0</td>\n",
              "      <td>200.0</td>\n",
              "      <td>750.0</td>\n",
              "      <td>500.0</td>\n",
              "      <td>0.0</td>\n",
              "      <td>0.0</td>\n",
              "      <td>1.0</td>\n",
              "      <td>4.0</td>\n",
              "      <td>4.0</td>\n",
              "      <td>CT</td>\n",
              "      <td>0.0</td>\n",
              "      <td>0.0</td>\n",
              "      <td>0.0</td>\n",
              "      <td>0.0</td>\n",
              "      <td>0.0</td>\n",
              "      <td>0.0</td>\n",
              "      <td>0.0</td>\n",
              "      <td>0.0</td>\n",
              "      <td>0.0</td>\n",
              "      <td>3.0</td>\n",
              "      <td>0.0</td>\n",
              "      <td>0.0</td>\n",
              "      <td>0.0</td>\n",
              "      <td>0.0</td>\n",
              "      <td>0.0</td>\n",
              "      <td>0.0</td>\n",
              "      <td>0.0</td>\n",
              "      <td>0.0</td>\n",
              "      <td>0.0</td>\n",
              "      <td>0.0</td>\n",
              "      <td>4.0</td>\n",
              "      <td>0.0</td>\n",
              "      <td>0.0</td>\n",
              "      <td>0.0</td>\n",
              "      <td>0.0</td>\n",
              "      <td>0.0</td>\n",
              "      <td>0.0</td>\n",
              "      <td>0.0</td>\n",
              "      <td>0.0</td>\n",
              "      <td>0.0</td>\n",
              "      <td>0.0</td>\n",
              "      <td>0.0</td>\n",
              "      <td>0.0</td>\n",
              "    </tr>\n",
              "    <tr>\n",
              "      <th>4</th>\n",
              "      <td>0</td>\n",
              "      <td>1</td>\n",
              "      <td>0</td>\n",
              "      <td>0</td>\n",
              "      <td>0</td>\n",
              "      <td>0</td>\n",
              "      <td>0</td>\n",
              "      <td>0</td>\n",
              "      <td>174.97</td>\n",
              "      <td>1.0</td>\n",
              "      <td>0.0</td>\n",
              "      <td>0</td>\n",
              "      <td>500.0</td>\n",
              "      <td>500.0</td>\n",
              "      <td>192.0</td>\n",
              "      <td>0.0</td>\n",
              "      <td>18350.0</td>\n",
              "      <td>10750.0</td>\n",
              "      <td>0.0</td>\n",
              "      <td>0.0</td>\n",
              "      <td>1.0</td>\n",
              "      <td>5.0</td>\n",
              "      <td>5.0</td>\n",
              "      <td>CT</td>\n",
              "      <td>0.0</td>\n",
              "      <td>0.0</td>\n",
              "      <td>0.0</td>\n",
              "      <td>0.0</td>\n",
              "      <td>0.0</td>\n",
              "      <td>0.0</td>\n",
              "      <td>0.0</td>\n",
              "      <td>0.0</td>\n",
              "      <td>0.0</td>\n",
              "      <td>5.0</td>\n",
              "      <td>0.0</td>\n",
              "      <td>0.0</td>\n",
              "      <td>0.0</td>\n",
              "      <td>0.0</td>\n",
              "      <td>0.0</td>\n",
              "      <td>0.0</td>\n",
              "      <td>0.0</td>\n",
              "      <td>0.0</td>\n",
              "      <td>0.0</td>\n",
              "      <td>0.0</td>\n",
              "      <td>4.0</td>\n",
              "      <td>0.0</td>\n",
              "      <td>0.0</td>\n",
              "      <td>0.0</td>\n",
              "      <td>1.0</td>\n",
              "      <td>0.0</td>\n",
              "      <td>0.0</td>\n",
              "      <td>0.0</td>\n",
              "      <td>0.0</td>\n",
              "      <td>0.0</td>\n",
              "      <td>0.0</td>\n",
              "      <td>0.0</td>\n",
              "      <td>0.0</td>\n",
              "    </tr>\n",
              "  </tbody>\n",
              "</table>\n",
              "</div>"
            ],
            "text/plain": [
              "   de_cache  de_dust2  ...  ct_grenade_incendiarygrenade  t_grenade_molotovgrenade\n",
              "0         0         1  ...                           0.0                       0.0\n",
              "1         0         1  ...                           0.0                       0.0\n",
              "2         0         1  ...                           0.0                       0.0\n",
              "3         0         1  ...                           0.0                       0.0\n",
              "4         0         1  ...                           0.0                       0.0\n",
              "\n",
              "[5 rows x 57 columns]"
            ]
          },
          "metadata": {
            "tags": []
          },
          "execution_count": 5
        }
      ]
    },
    {
      "cell_type": "code",
      "metadata": {
        "colab": {
          "base_uri": "https://localhost:8080/"
        },
        "id": "kBC-dwei1X1Z",
        "outputId": "f5e3cb56-661f-443e-f91d-e2b8a4a98ed0"
      },
      "source": [
        "data = data_ready#.sample(10000)\n",
        "data.shape"
      ],
      "execution_count": 6,
      "outputs": [
        {
          "output_type": "execute_result",
          "data": {
            "text/plain": [
              "(122410, 57)"
            ]
          },
          "metadata": {
            "tags": []
          },
          "execution_count": 6
        }
      ]
    },
    {
      "cell_type": "code",
      "metadata": {
        "id": "gJ42_Raa3OSI"
      },
      "source": [
        "Y = data['round_winner']\n",
        "data = data.drop(['round_winner'], axis=1)"
      ],
      "execution_count": 7,
      "outputs": []
    },
    {
      "cell_type": "code",
      "metadata": {
        "colab": {
          "base_uri": "https://localhost:8080/",
          "height": 402
        },
        "id": "iwBOxg3n3IiA",
        "outputId": "9358a1d7-5725-4add-86b9-ea729414cd45"
      },
      "source": [
        "data_stand = (data - data.mean(axis = 0))/data.std(axis = 0)\n",
        "data_stand.describe()"
      ],
      "execution_count": 8,
      "outputs": [
        {
          "output_type": "execute_result",
          "data": {
            "text/html": [
              "<div>\n",
              "<style scoped>\n",
              "    .dataframe tbody tr th:only-of-type {\n",
              "        vertical-align: middle;\n",
              "    }\n",
              "\n",
              "    .dataframe tbody tr th {\n",
              "        vertical-align: top;\n",
              "    }\n",
              "\n",
              "    .dataframe thead th {\n",
              "        text-align: right;\n",
              "    }\n",
              "</style>\n",
              "<table border=\"1\" class=\"dataframe\">\n",
              "  <thead>\n",
              "    <tr style=\"text-align: right;\">\n",
              "      <th></th>\n",
              "      <th>de_cache</th>\n",
              "      <th>de_dust2</th>\n",
              "      <th>de_inferno</th>\n",
              "      <th>de_mirage</th>\n",
              "      <th>de_nuke</th>\n",
              "      <th>de_overpass</th>\n",
              "      <th>de_train</th>\n",
              "      <th>de_vertigo</th>\n",
              "      <th>time_left</th>\n",
              "      <th>ct_score</th>\n",
              "      <th>t_score</th>\n",
              "      <th>bomb_planted</th>\n",
              "      <th>ct_health</th>\n",
              "      <th>t_health</th>\n",
              "      <th>ct_armor</th>\n",
              "      <th>t_armor</th>\n",
              "      <th>ct_money</th>\n",
              "      <th>t_money</th>\n",
              "      <th>ct_helmets</th>\n",
              "      <th>t_helmets</th>\n",
              "      <th>ct_defuse_kits</th>\n",
              "      <th>ct_players_alive</th>\n",
              "      <th>t_players_alive</th>\n",
              "      <th>ct_weapon_ak47</th>\n",
              "      <th>t_weapon_ak47</th>\n",
              "      <th>ct_weapon_aug</th>\n",
              "      <th>ct_weapon_awp</th>\n",
              "      <th>t_weapon_awp</th>\n",
              "      <th>ct_weapon_cz75auto</th>\n",
              "      <th>t_weapon_cz75auto</th>\n",
              "      <th>ct_weapon_famas</th>\n",
              "      <th>t_weapon_galilar</th>\n",
              "      <th>t_weapon_glock</th>\n",
              "      <th>ct_weapon_m4a1s</th>\n",
              "      <th>ct_weapon_m4a4</th>\n",
              "      <th>t_weapon_mac10</th>\n",
              "      <th>ct_weapon_mp9</th>\n",
              "      <th>ct_weapon_sg553</th>\n",
              "      <th>t_weapon_sg553</th>\n",
              "      <th>ct_weapon_ssg08</th>\n",
              "      <th>ct_weapon_deagle</th>\n",
              "      <th>t_weapon_deagle</th>\n",
              "      <th>ct_weapon_fiveseven</th>\n",
              "      <th>ct_weapon_usps</th>\n",
              "      <th>t_weapon_usps</th>\n",
              "      <th>ct_weapon_p250</th>\n",
              "      <th>t_weapon_p250</th>\n",
              "      <th>ct_weapon_p2000</th>\n",
              "      <th>ct_grenade_hegrenade</th>\n",
              "      <th>t_grenade_hegrenade</th>\n",
              "      <th>ct_grenade_flashbang</th>\n",
              "      <th>t_grenade_flashbang</th>\n",
              "      <th>ct_grenade_smokegrenade</th>\n",
              "      <th>t_grenade_smokegrenade</th>\n",
              "      <th>ct_grenade_incendiarygrenade</th>\n",
              "      <th>t_grenade_molotovgrenade</th>\n",
              "    </tr>\n",
              "  </thead>\n",
              "  <tbody>\n",
              "    <tr>\n",
              "      <th>count</th>\n",
              "      <td>1.224100e+05</td>\n",
              "      <td>1.224100e+05</td>\n",
              "      <td>1.224100e+05</td>\n",
              "      <td>1.224100e+05</td>\n",
              "      <td>1.224100e+05</td>\n",
              "      <td>1.224100e+05</td>\n",
              "      <td>1.224100e+05</td>\n",
              "      <td>1.224100e+05</td>\n",
              "      <td>1.224100e+05</td>\n",
              "      <td>1.224100e+05</td>\n",
              "      <td>1.224100e+05</td>\n",
              "      <td>1.224100e+05</td>\n",
              "      <td>1.224100e+05</td>\n",
              "      <td>1.224100e+05</td>\n",
              "      <td>1.224100e+05</td>\n",
              "      <td>1.224100e+05</td>\n",
              "      <td>1.224100e+05</td>\n",
              "      <td>1.224100e+05</td>\n",
              "      <td>1.224100e+05</td>\n",
              "      <td>1.224100e+05</td>\n",
              "      <td>1.224100e+05</td>\n",
              "      <td>1.224100e+05</td>\n",
              "      <td>1.224100e+05</td>\n",
              "      <td>1.224100e+05</td>\n",
              "      <td>1.224100e+05</td>\n",
              "      <td>1.224100e+05</td>\n",
              "      <td>1.224100e+05</td>\n",
              "      <td>1.224100e+05</td>\n",
              "      <td>1.224100e+05</td>\n",
              "      <td>1.224100e+05</td>\n",
              "      <td>1.224100e+05</td>\n",
              "      <td>1.224100e+05</td>\n",
              "      <td>1.224100e+05</td>\n",
              "      <td>1.224100e+05</td>\n",
              "      <td>1.224100e+05</td>\n",
              "      <td>1.224100e+05</td>\n",
              "      <td>1.224100e+05</td>\n",
              "      <td>1.224100e+05</td>\n",
              "      <td>1.224100e+05</td>\n",
              "      <td>1.224100e+05</td>\n",
              "      <td>1.224100e+05</td>\n",
              "      <td>1.224100e+05</td>\n",
              "      <td>1.224100e+05</td>\n",
              "      <td>1.224100e+05</td>\n",
              "      <td>1.224100e+05</td>\n",
              "      <td>1.224100e+05</td>\n",
              "      <td>1.224100e+05</td>\n",
              "      <td>1.224100e+05</td>\n",
              "      <td>1.224100e+05</td>\n",
              "      <td>1.224100e+05</td>\n",
              "      <td>1.224100e+05</td>\n",
              "      <td>1.224100e+05</td>\n",
              "      <td>1.224100e+05</td>\n",
              "      <td>1.224100e+05</td>\n",
              "      <td>1.224100e+05</td>\n",
              "      <td>1.224100e+05</td>\n",
              "    </tr>\n",
              "    <tr>\n",
              "      <th>mean</th>\n",
              "      <td>1.732851e-14</td>\n",
              "      <td>1.307772e-14</td>\n",
              "      <td>-2.236603e-14</td>\n",
              "      <td>-3.029724e-15</td>\n",
              "      <td>1.481080e-13</td>\n",
              "      <td>-2.294063e-14</td>\n",
              "      <td>-1.794098e-14</td>\n",
              "      <td>-1.362303e-15</td>\n",
              "      <td>-3.982956e-13</td>\n",
              "      <td>2.963790e-15</td>\n",
              "      <td>1.196875e-16</td>\n",
              "      <td>8.486572e-16</td>\n",
              "      <td>-1.097754e-15</td>\n",
              "      <td>-7.064677e-16</td>\n",
              "      <td>1.334322e-15</td>\n",
              "      <td>1.457048e-15</td>\n",
              "      <td>-1.181652e-15</td>\n",
              "      <td>-6.050321e-16</td>\n",
              "      <td>-3.990456e-15</td>\n",
              "      <td>6.669069e-15</td>\n",
              "      <td>2.471431e-15</td>\n",
              "      <td>-4.284551e-16</td>\n",
              "      <td>-1.244370e-14</td>\n",
              "      <td>-2.018571e-14</td>\n",
              "      <td>1.421405e-14</td>\n",
              "      <td>-1.927248e-14</td>\n",
              "      <td>-1.474041e-14</td>\n",
              "      <td>1.053678e-14</td>\n",
              "      <td>2.331931e-14</td>\n",
              "      <td>5.770488e-14</td>\n",
              "      <td>-8.834825e-15</td>\n",
              "      <td>3.832387e-16</td>\n",
              "      <td>-7.556439e-15</td>\n",
              "      <td>4.078579e-14</td>\n",
              "      <td>-9.069489e-16</td>\n",
              "      <td>2.888523e-14</td>\n",
              "      <td>-6.099633e-16</td>\n",
              "      <td>-8.974913e-14</td>\n",
              "      <td>-2.942655e-14</td>\n",
              "      <td>1.020922e-14</td>\n",
              "      <td>-1.009923e-15</td>\n",
              "      <td>6.639734e-16</td>\n",
              "      <td>-2.270325e-16</td>\n",
              "      <td>-1.603622e-15</td>\n",
              "      <td>-6.888222e-15</td>\n",
              "      <td>5.320283e-15</td>\n",
              "      <td>7.176840e-15</td>\n",
              "      <td>-2.292477e-15</td>\n",
              "      <td>-6.540272e-15</td>\n",
              "      <td>2.054035e-15</td>\n",
              "      <td>-2.120041e-15</td>\n",
              "      <td>-1.099923e-15</td>\n",
              "      <td>5.252760e-15</td>\n",
              "      <td>-5.240086e-15</td>\n",
              "      <td>2.136497e-15</td>\n",
              "      <td>2.924266e-15</td>\n",
              "    </tr>\n",
              "    <tr>\n",
              "      <th>std</th>\n",
              "      <td>1.000000e+00</td>\n",
              "      <td>1.000000e+00</td>\n",
              "      <td>1.000000e+00</td>\n",
              "      <td>1.000000e+00</td>\n",
              "      <td>1.000000e+00</td>\n",
              "      <td>1.000000e+00</td>\n",
              "      <td>1.000000e+00</td>\n",
              "      <td>1.000000e+00</td>\n",
              "      <td>1.000000e+00</td>\n",
              "      <td>1.000000e+00</td>\n",
              "      <td>1.000000e+00</td>\n",
              "      <td>1.000000e+00</td>\n",
              "      <td>1.000000e+00</td>\n",
              "      <td>1.000000e+00</td>\n",
              "      <td>1.000000e+00</td>\n",
              "      <td>1.000000e+00</td>\n",
              "      <td>1.000000e+00</td>\n",
              "      <td>1.000000e+00</td>\n",
              "      <td>1.000000e+00</td>\n",
              "      <td>1.000000e+00</td>\n",
              "      <td>1.000000e+00</td>\n",
              "      <td>1.000000e+00</td>\n",
              "      <td>1.000000e+00</td>\n",
              "      <td>1.000000e+00</td>\n",
              "      <td>1.000000e+00</td>\n",
              "      <td>1.000000e+00</td>\n",
              "      <td>1.000000e+00</td>\n",
              "      <td>1.000000e+00</td>\n",
              "      <td>1.000000e+00</td>\n",
              "      <td>1.000000e+00</td>\n",
              "      <td>1.000000e+00</td>\n",
              "      <td>1.000000e+00</td>\n",
              "      <td>1.000000e+00</td>\n",
              "      <td>1.000000e+00</td>\n",
              "      <td>1.000000e+00</td>\n",
              "      <td>1.000000e+00</td>\n",
              "      <td>1.000000e+00</td>\n",
              "      <td>1.000000e+00</td>\n",
              "      <td>1.000000e+00</td>\n",
              "      <td>1.000000e+00</td>\n",
              "      <td>1.000000e+00</td>\n",
              "      <td>1.000000e+00</td>\n",
              "      <td>1.000000e+00</td>\n",
              "      <td>1.000000e+00</td>\n",
              "      <td>1.000000e+00</td>\n",
              "      <td>1.000000e+00</td>\n",
              "      <td>1.000000e+00</td>\n",
              "      <td>1.000000e+00</td>\n",
              "      <td>1.000000e+00</td>\n",
              "      <td>1.000000e+00</td>\n",
              "      <td>1.000000e+00</td>\n",
              "      <td>1.000000e+00</td>\n",
              "      <td>1.000000e+00</td>\n",
              "      <td>1.000000e+00</td>\n",
              "      <td>1.000000e+00</td>\n",
              "      <td>1.000000e+00</td>\n",
              "    </tr>\n",
              "    <tr>\n",
              "      <th>min</th>\n",
              "      <td>-3.443746e-02</td>\n",
              "      <td>-4.699476e-01</td>\n",
              "      <td>-4.914177e-01</td>\n",
              "      <td>-4.229651e-01</td>\n",
              "      <td>-4.289748e-01</td>\n",
              "      <td>-3.605310e-01</td>\n",
              "      <td>-3.519399e-01</td>\n",
              "      <td>-3.163643e-01</td>\n",
              "      <td>-1.797053e+00</td>\n",
              "      <td>-1.400570e+00</td>\n",
              "      <td>-1.405696e+00</td>\n",
              "      <td>-3.547628e-01</td>\n",
              "      <td>-3.115098e+00</td>\n",
              "      <td>-2.878197e+00</td>\n",
              "      <td>-1.836769e+00</td>\n",
              "      <td>-1.709535e+00</td>\n",
              "      <td>-8.728477e-01</td>\n",
              "      <td>-9.242140e-01</td>\n",
              "      <td>-1.115359e+00</td>\n",
              "      <td>-1.379292e+00</td>\n",
              "      <td>-1.004947e+00</td>\n",
              "      <td>-3.545210e+00</td>\n",
              "      <td>-3.473175e+00</td>\n",
              "      <td>-4.701341e-01</td>\n",
              "      <td>-9.120451e-01</td>\n",
              "      <td>-2.924449e-01</td>\n",
              "      <td>-8.521283e-01</td>\n",
              "      <td>-6.738269e-01</td>\n",
              "      <td>-3.408521e-01</td>\n",
              "      <td>-2.790931e-01</td>\n",
              "      <td>-2.831460e-01</td>\n",
              "      <td>-2.717236e-01</td>\n",
              "      <td>-2.036060e+00</td>\n",
              "      <td>-2.427621e-01</td>\n",
              "      <td>-8.828025e-01</td>\n",
              "      <td>-2.606018e-01</td>\n",
              "      <td>-3.112070e-01</td>\n",
              "      <td>-4.316165e-01</td>\n",
              "      <td>-7.239215e-01</td>\n",
              "      <td>-2.247249e-01</td>\n",
              "      <td>-5.280604e-01</td>\n",
              "      <td>-4.674772e-01</td>\n",
              "      <td>-2.140449e-01</td>\n",
              "      <td>-2.003915e+00</td>\n",
              "      <td>-2.788613e-01</td>\n",
              "      <td>-4.439486e-01</td>\n",
              "      <td>-5.034342e-01</td>\n",
              "      <td>-4.093834e-01</td>\n",
              "      <td>-7.015631e-01</td>\n",
              "      <td>-5.422971e-01</td>\n",
              "      <td>-1.045333e+00</td>\n",
              "      <td>-1.035457e+00</td>\n",
              "      <td>-8.866441e-01</td>\n",
              "      <td>-8.895655e-01</td>\n",
              "      <td>-6.871819e-01</td>\n",
              "      <td>-8.129257e-01</td>\n",
              "    </tr>\n",
              "    <tr>\n",
              "      <th>25%</th>\n",
              "      <td>-3.443746e-02</td>\n",
              "      <td>-4.699476e-01</td>\n",
              "      <td>-4.914177e-01</td>\n",
              "      <td>-4.229651e-01</td>\n",
              "      <td>-4.289748e-01</td>\n",
              "      <td>-3.605310e-01</td>\n",
              "      <td>-3.519399e-01</td>\n",
              "      <td>-3.163643e-01</td>\n",
              "      <td>-7.888871e-01</td>\n",
              "      <td>-7.743129e-01</td>\n",
              "      <td>-7.837464e-01</td>\n",
              "      <td>-3.547628e-01</td>\n",
              "      <td>-4.694612e-01</td>\n",
              "      <td>-5.768658e-01</td>\n",
              "      <td>-7.024633e-01</td>\n",
              "      <td>-7.128373e-01</td>\n",
              "      <td>-7.569319e-01</td>\n",
              "      <td>-7.967763e-01</td>\n",
              "      <td>-1.115359e+00</td>\n",
              "      <td>-1.379292e+00</td>\n",
              "      <td>-1.004947e+00</td>\n",
              "      <td>-2.270859e-01</td>\n",
              "      <td>-2.167076e-01</td>\n",
              "      <td>-4.701341e-01</td>\n",
              "      <td>-9.120451e-01</td>\n",
              "      <td>-2.924449e-01</td>\n",
              "      <td>-8.521283e-01</td>\n",
              "      <td>-6.738269e-01</td>\n",
              "      <td>-3.408521e-01</td>\n",
              "      <td>-2.790931e-01</td>\n",
              "      <td>-2.831460e-01</td>\n",
              "      <td>-2.717236e-01</td>\n",
              "      <td>-8.058848e-01</td>\n",
              "      <td>-2.427621e-01</td>\n",
              "      <td>-8.828025e-01</td>\n",
              "      <td>-2.606018e-01</td>\n",
              "      <td>-3.112070e-01</td>\n",
              "      <td>-4.316165e-01</td>\n",
              "      <td>-7.239215e-01</td>\n",
              "      <td>-2.247249e-01</td>\n",
              "      <td>-5.280604e-01</td>\n",
              "      <td>-4.674772e-01</td>\n",
              "      <td>-2.140449e-01</td>\n",
              "      <td>-7.435077e-01</td>\n",
              "      <td>-2.788613e-01</td>\n",
              "      <td>-4.439486e-01</td>\n",
              "      <td>-5.034342e-01</td>\n",
              "      <td>-4.093834e-01</td>\n",
              "      <td>-7.015631e-01</td>\n",
              "      <td>-5.422971e-01</td>\n",
              "      <td>-1.045333e+00</td>\n",
              "      <td>-1.035457e+00</td>\n",
              "      <td>-8.866441e-01</td>\n",
              "      <td>-8.895655e-01</td>\n",
              "      <td>-6.871819e-01</td>\n",
              "      <td>-8.129257e-01</td>\n",
              "    </tr>\n",
              "    <tr>\n",
              "      <th>50%</th>\n",
              "      <td>-3.443746e-02</td>\n",
              "      <td>-4.699476e-01</td>\n",
              "      <td>-4.914177e-01</td>\n",
              "      <td>-4.229651e-01</td>\n",
              "      <td>-4.289748e-01</td>\n",
              "      <td>-3.605310e-01</td>\n",
              "      <td>-3.519399e-01</td>\n",
              "      <td>-3.163643e-01</td>\n",
              "      <td>-5.465729e-02</td>\n",
              "      <td>-1.480555e-01</td>\n",
              "      <td>-1.617969e-01</td>\n",
              "      <td>-3.547628e-01</td>\n",
              "      <td>6.643831e-01</td>\n",
              "      <td>6.952985e-01</td>\n",
              "      <td>3.675260e-01</td>\n",
              "      <td>2.036661e-01</td>\n",
              "      <td>-3.824349e-01</td>\n",
              "      <td>-3.363563e-01</td>\n",
              "      <td>-2.927054e-02</td>\n",
              "      <td>1.125668e-01</td>\n",
              "      <td>-3.821970e-01</td>\n",
              "      <td>6.024452e-01</td>\n",
              "      <td>5.974091e-01</td>\n",
              "      <td>-4.701341e-01</td>\n",
              "      <td>-1.788463e-01</td>\n",
              "      <td>-2.924449e-01</td>\n",
              "      <td>-8.521283e-01</td>\n",
              "      <td>-6.738269e-01</td>\n",
              "      <td>-3.408521e-01</td>\n",
              "      <td>-2.790931e-01</td>\n",
              "      <td>-2.831460e-01</td>\n",
              "      <td>-2.717236e-01</td>\n",
              "      <td>4.242903e-01</td>\n",
              "      <td>-2.427621e-01</td>\n",
              "      <td>-6.253369e-02</td>\n",
              "      <td>-2.606018e-01</td>\n",
              "      <td>-3.112070e-01</td>\n",
              "      <td>-4.316165e-01</td>\n",
              "      <td>-7.239215e-01</td>\n",
              "      <td>-2.247249e-01</td>\n",
              "      <td>-5.280604e-01</td>\n",
              "      <td>-4.674772e-01</td>\n",
              "      <td>-2.140449e-01</td>\n",
              "      <td>-1.133039e-01</td>\n",
              "      <td>-2.788613e-01</td>\n",
              "      <td>-4.439486e-01</td>\n",
              "      <td>-5.034342e-01</td>\n",
              "      <td>-4.093834e-01</td>\n",
              "      <td>-7.015631e-01</td>\n",
              "      <td>-5.422971e-01</td>\n",
              "      <td>-4.812510e-01</td>\n",
              "      <td>-4.781905e-01</td>\n",
              "      <td>-3.112052e-01</td>\n",
              "      <td>-3.428627e-01</td>\n",
              "      <td>-6.871819e-01</td>\n",
              "      <td>-2.116917e-01</td>\n",
              "    </tr>\n",
              "    <tr>\n",
              "      <th>75%</th>\n",
              "      <td>-3.443746e-02</td>\n",
              "      <td>-4.699476e-01</td>\n",
              "      <td>-4.914177e-01</td>\n",
              "      <td>-4.229651e-01</td>\n",
              "      <td>-4.289748e-01</td>\n",
              "      <td>-3.605310e-01</td>\n",
              "      <td>-3.519399e-01</td>\n",
              "      <td>-3.163643e-01</td>\n",
              "      <td>1.267425e+00</td>\n",
              "      <td>6.869544e-01</td>\n",
              "      <td>6.674689e-01</td>\n",
              "      <td>-3.547628e-01</td>\n",
              "      <td>6.643831e-01</td>\n",
              "      <td>6.952985e-01</td>\n",
              "      <td>1.004842e+00</td>\n",
              "      <td>9.712377e-01</td>\n",
              "      <td>4.289753e-01</td>\n",
              "      <td>5.557075e-01</td>\n",
              "      <td>1.056818e+00</td>\n",
              "      <td>1.107139e+00</td>\n",
              "      <td>8.633034e-01</td>\n",
              "      <td>6.024452e-01</td>\n",
              "      <td>5.974091e-01</td>\n",
              "      <td>-4.701341e-01</td>\n",
              "      <td>5.543524e-01</td>\n",
              "      <td>-2.924449e-01</td>\n",
              "      <td>6.332052e-01</td>\n",
              "      <td>1.424073e+00</td>\n",
              "      <td>-3.408521e-01</td>\n",
              "      <td>-2.790931e-01</td>\n",
              "      <td>-2.831460e-01</td>\n",
              "      <td>-2.717236e-01</td>\n",
              "      <td>1.039378e+00</td>\n",
              "      <td>-2.427621e-01</td>\n",
              "      <td>7.577352e-01</td>\n",
              "      <td>-2.606018e-01</td>\n",
              "      <td>-3.112070e-01</td>\n",
              "      <td>-4.316165e-01</td>\n",
              "      <td>1.536221e-01</td>\n",
              "      <td>-2.247249e-01</td>\n",
              "      <td>6.702391e-01</td>\n",
              "      <td>-4.674772e-01</td>\n",
              "      <td>-2.140449e-01</td>\n",
              "      <td>1.147104e+00</td>\n",
              "      <td>-2.788613e-01</td>\n",
              "      <td>-4.439486e-01</td>\n",
              "      <td>-5.034342e-01</td>\n",
              "      <td>-4.093834e-01</td>\n",
              "      <td>7.873056e-02</td>\n",
              "      <td>6.950990e-01</td>\n",
              "      <td>6.469136e-01</td>\n",
              "      <td>6.363430e-01</td>\n",
              "      <td>8.396726e-01</td>\n",
              "      <td>7.505429e-01</td>\n",
              "      <td>6.844814e-01</td>\n",
              "      <td>3.895423e-01</td>\n",
              "    </tr>\n",
              "    <tr>\n",
              "      <th>max</th>\n",
              "      <td>2.903791e+01</td>\n",
              "      <td>2.127880e+00</td>\n",
              "      <td>2.034912e+00</td>\n",
              "      <td>2.364242e+00</td>\n",
              "      <td>2.331120e+00</td>\n",
              "      <td>2.773664e+00</td>\n",
              "      <td>2.841371e+00</td>\n",
              "      <td>3.160887e+00</td>\n",
              "      <td>1.415822e+00</td>\n",
              "      <td>5.279509e+00</td>\n",
              "      <td>5.435748e+00</td>\n",
              "      <td>2.818762e+00</td>\n",
              "      <td>6.643831e-01</td>\n",
              "      <td>1.409998e+00</td>\n",
              "      <td>1.086699e+00</td>\n",
              "      <td>1.154538e+00</td>\n",
              "      <td>6.260429e+00</td>\n",
              "      <td>5.653215e+00</td>\n",
              "      <td>1.599863e+00</td>\n",
              "      <td>1.107139e+00</td>\n",
              "      <td>2.108804e+00</td>\n",
              "      <td>6.024452e-01</td>\n",
              "      <td>1.411526e+00</td>\n",
              "      <td>6.378097e+00</td>\n",
              "      <td>2.753949e+00</td>\n",
              "      <td>1.056997e+01</td>\n",
              "      <td>6.574539e+00</td>\n",
              "      <td>7.717775e+00</td>\n",
              "      <td>1.087218e+01</td>\n",
              "      <td>1.551067e+01</td>\n",
              "      <td>1.257100e+01</td>\n",
              "      <td>1.204559e+01</td>\n",
              "      <td>3.499728e+00</td>\n",
              "      <td>1.116911e+01</td>\n",
              "      <td>3.218542e+00</td>\n",
              "      <td>1.188170e+01</td>\n",
              "      <td>1.027422e+01</td>\n",
              "      <td>6.787646e+00</td>\n",
              "      <td>3.663796e+00</td>\n",
              "      <td>1.488157e+01</td>\n",
              "      <td>5.463437e+00</td>\n",
              "      <td>5.669528e+00</td>\n",
              "      <td>1.711711e+01</td>\n",
              "      <td>4.298123e+00</td>\n",
              "      <td>1.111252e+01</td>\n",
              "      <td>8.923079e+00</td>\n",
              "      <td>8.128298e+00</td>\n",
              "      <td>6.647076e+00</td>\n",
              "      <td>3.199905e+00</td>\n",
              "      <td>5.644683e+00</td>\n",
              "      <td>2.903243e+00</td>\n",
              "      <td>2.865410e+00</td>\n",
              "      <td>2.565989e+00</td>\n",
              "      <td>4.030760e+00</td>\n",
              "      <td>2.741976e+00</td>\n",
              "      <td>2.193244e+00</td>\n",
              "    </tr>\n",
              "  </tbody>\n",
              "</table>\n",
              "</div>"
            ],
            "text/plain": [
              "           de_cache  ...  t_grenade_molotovgrenade\n",
              "count  1.224100e+05  ...              1.224100e+05\n",
              "mean   1.732851e-14  ...              2.924266e-15\n",
              "std    1.000000e+00  ...              1.000000e+00\n",
              "min   -3.443746e-02  ...             -8.129257e-01\n",
              "25%   -3.443746e-02  ...             -8.129257e-01\n",
              "50%   -3.443746e-02  ...             -2.116917e-01\n",
              "75%   -3.443746e-02  ...              3.895423e-01\n",
              "max    2.903791e+01  ...              2.193244e+00\n",
              "\n",
              "[8 rows x 56 columns]"
            ]
          },
          "metadata": {
            "tags": []
          },
          "execution_count": 8
        }
      ]
    },
    {
      "cell_type": "code",
      "metadata": {
        "id": "aS7Se2ao3KkA"
      },
      "source": [
        "data = data_stand"
      ],
      "execution_count": 9,
      "outputs": []
    },
    {
      "cell_type": "markdown",
      "metadata": {
        "id": "mwZHUjvi1-1u"
      },
      "source": [
        "###Постановка задачи"
      ]
    },
    {
      "cell_type": "markdown",
      "metadata": {
        "id": "XYQYhIh4Vgcv"
      },
      "source": [
        "Собраны данные из множества онлайн-матчей CS:GO, игры, где сражаются две команды по пять человек: террористы, цель которых установить и подорвать бомбу по истечению 45 секунд, либо уничтожить весь спецназ; спецназ, цель которого уничтожить террористов либо обезвредить установленную бомбу.  \n",
        "Каждый раунд, с некоторым интервалом времени делался \"снимок\" игры, а именно - количество здоровья команды, количество брони, наличие оружия, факт устрановки бомбы и текущий счет.\n",
        "\n",
        "Задача состоит в определении победителя раунда по данным показателям."
      ]
    },
    {
      "cell_type": "markdown",
      "metadata": {
        "id": "eKpRI6CbzTyi"
      },
      "source": [
        "###MLP"
      ]
    },
    {
      "cell_type": "markdown",
      "metadata": {
        "id": "fIXojXLC-R1P"
      },
      "source": [
        "Разбиваем на обучающую и тестувую выборки"
      ]
    },
    {
      "cell_type": "code",
      "metadata": {
        "colab": {
          "base_uri": "https://localhost:8080/"
        },
        "id": "nQtUP7BSrE6T",
        "outputId": "7b9e4f19-7d5f-4c9b-ed40-259a9a0999ed"
      },
      "source": [
        "X = data\n",
        "y = (Y == 'CT').astype(int)\n",
        "\n",
        "X_train, X_test, y_train, y_test = train_test_split(X, y, test_size = 0.3, random_state = 42)\n",
        "\n",
        "N_train, _ = X_train.shape \n",
        "N_test,  _ = X_test.shape \n",
        "\n",
        "N_train, N_test"
      ],
      "execution_count": 10,
      "outputs": [
        {
          "output_type": "execute_result",
          "data": {
            "text/plain": [
              "(85687, 36723)"
            ]
          },
          "metadata": {
            "tags": []
          },
          "execution_count": 10
        }
      ]
    },
    {
      "cell_type": "markdown",
      "metadata": {
        "id": "WviXeMuCRTFu"
      },
      "source": [
        "#### One hidden layer"
      ]
    },
    {
      "cell_type": "markdown",
      "metadata": {
        "id": "ZCRxsXxGO73w"
      },
      "source": [
        "Попробуем найти оптимальынй размер для 1/1 скрытого слоя"
      ]
    },
    {
      "cell_type": "code",
      "metadata": {
        "colab": {
          "base_uri": "https://localhost:8080/"
        },
        "id": "UrlxGA_zwomQ",
        "outputId": "1bcaa820-81d9-4dac-91a7-27ff3cee3ffa"
      },
      "source": [
        "layer_sizes = [ int(np.round(x)) for x in np.logspace(0.5, 4, 8, endpoint=False) ]\n",
        "layer_sizes"
      ],
      "execution_count": 12,
      "outputs": [
        {
          "output_type": "execute_result",
          "data": {
            "text/plain": [
              "[3, 9, 24, 65, 178, 487, 1334, 3652]"
            ]
          },
          "metadata": {
            "tags": []
          },
          "execution_count": 12
        }
      ]
    },
    {
      "cell_type": "code",
      "metadata": {
        "id": "byT90alixuE4"
      },
      "source": [
        "%%time\n",
        "one_layer_train_acc = []\n",
        "one_layer_test_acc  = []\n",
        "for layer_size in layer_sizes:\n",
        "    mlp_model = MLPClassifier(hidden_layer_sizes = (layer_size,), max_iter = 256, random_state = 42)\n",
        "    mlp_model.fit(X_train, y_train)\n",
        "    one_layer_train_acc.append(mlp_model.score(X_train, y_train))\n",
        "    one_layer_test_acc.append(mlp_model.score(X_test, y_test))\n",
        "    print(\"Train: {:.5f}, Test: {:.5f}\".format(one_layer_train_acc[-1], one_layer_test_acc[-1]))"
      ],
      "execution_count": null,
      "outputs": []
    },
    {
      "cell_type": "code",
      "metadata": {
        "colab": {
          "base_uri": "https://localhost:8080/",
          "height": 561
        },
        "id": "X25JY4Fp2YPw",
        "outputId": "45aa1e22-71be-4517-c7e0-91778945c5eb"
      },
      "source": [
        "plt.plot(layer_sizes, one_layer_train_acc, marker='.', ls = '-', label='Train accuracy one layer')\n",
        "plt.plot(layer_sizes, one_layer_test_acc,  marker='.', ls = '-', label='Test accuracy one layer')\n",
        "plt.xscale(\"log\")\n",
        "plt.xticks(layer_sizes)\n",
        "plt.legend()"
      ],
      "execution_count": null,
      "outputs": [
        {
          "output_type": "execute_result",
          "data": {
            "text/plain": [
              "<matplotlib.legend.Legend at 0x7f7b1da70c18>"
            ]
          },
          "metadata": {
            "tags": []
          },
          "execution_count": 19
        },
        {
          "output_type": "display_data",
          "data": {
            "image/png": "[encoded data removed]",
            "text/plain": [
              "<Figure size 1152x648 with 1 Axes>"
            ]
          },
          "metadata": {
            "tags": []
          }
        }
      ]
    },
    {
      "cell_type": "markdown",
      "metadata": {
        "id": "ZEJSWnjwPKim"
      },
      "source": [
        "С каждой итерацией точность на тестовой выборке продолжает улучшаться, причем при размере слоя 487, точность обучающей выборки выросла до 98%, и казалось бы, модель переобучена, но тем не менее показывает все лучшие результаты на тестовой выборке."
      ]
    },
    {
      "cell_type": "code",
      "metadata": {
        "colab": {
          "base_uri": "https://localhost:8080/"
        },
        "id": "I4WGH6ES4B9B",
        "outputId": "2d43e1e8-5580-4a6d-899d-eb2851769936"
      },
      "source": [
        "one_layer_max = max(one_layer_test_acc)\n",
        "first_layer_size = layer_sizes[one_layer_test_acc.index(one_layer_max)]\n",
        "first_layer_size, one_layer_max"
      ],
      "execution_count": null,
      "outputs": [
        {
          "output_type": "execute_result",
          "data": {
            "text/plain": [
              "(3652, 0.8860659532173297)"
            ]
          },
          "metadata": {
            "tags": []
          },
          "execution_count": 20
        }
      ]
    },
    {
      "cell_type": "markdown",
      "metadata": {
        "id": "py5eU0KKQu-e"
      },
      "source": [
        "Лучший результат дает нам точность в 88%, что превышает на 7% результаты полученные стандартными алгоритмами."
      ]
    },
    {
      "cell_type": "markdown",
      "metadata": {
        "id": "0b-OlnIKRXrV"
      },
      "source": [
        "#### Two hidden layers"
      ]
    },
    {
      "cell_type": "markdown",
      "metadata": {
        "id": "Q2P6OM9CP9RH"
      },
      "source": [
        "Поскольку такое большое число нейронов на первом скрытом слое в комбинации со вторым приведет к невыносимо долгому обучению, доверимся интуиции и возьмем 128 нейронов для первого слоя, что чуть больше чем 2*input_layer_size."
      ]
    },
    {
      "cell_type": "code",
      "metadata": {
        "id": "4Ezu1gTF4QGg"
      },
      "source": [
        "two_layer_train_acc = []\n",
        "two_layer_test_acc  = []\n",
        "\n",
        "for layer_size in layer_sizes:\n",
        "    mlp_model = MLPClassifier(hidden_layer_sizes = (128, layer_size), max_iter = 256, random_state = 42)\n",
        "    mlp_model.fit(X_train, y_train)\n",
        "    two_layer_train_acc.append(mlp_model.score(X_train, y_train))\n",
        "    two_layer_test_acc.append(mlp_model.score(X_test, y_test))\n",
        "    print(\"Train: {:.5f}, Test: {:.5f}\".format(\n",
        "        two_layer_train_acc[-1],\n",
        "        two_layer_test_acc[-1])\n",
        "    )"
      ],
      "execution_count": null,
      "outputs": []
    },
    {
      "cell_type": "code",
      "metadata": {
        "id": "zPT00NlJRc-P"
      },
      "source": [
        "#cache\r\n",
        "two_layer_train_acc = [0.87708,0.89787,0.92523,0.96842,0.98216,0.99075,0.99328,0.98762,]\r\n",
        "two_layer_test_acc = [0.80535,0.81407,0.82482,0.84214,0.86044,0.87722,0.88754,0.88884]"
      ],
      "execution_count": null,
      "outputs": []
    },
    {
      "cell_type": "code",
      "metadata": {
        "colab": {
          "base_uri": "https://localhost:8080/",
          "height": 558
        },
        "id": "9xujXdlN5Kc5",
        "outputId": "4f61df1c-24f9-472f-9803-6ce1fdf09529"
      },
      "source": [
        "plt.plot(layer_sizes, two_layer_train_acc, marker='.', ls = '-',  label='Train accuracy two layers')\n",
        "plt.plot(layer_sizes, two_layer_test_acc,  marker='.', ls = '-',  label='Test accuracy two layers' )\n",
        "plt.plot(layer_sizes, one_layer_train_acc, marker='.', ls = '--', label='Train accuracy one layer')\n",
        "plt.plot(layer_sizes, one_layer_test_acc,  marker='.', ls = '--', label='Test accuracy one layer')\n",
        "plt.xscale(\"log\")\n",
        "plt.xticks(layer_sizes)\n",
        "plt.legend()"
      ],
      "execution_count": null,
      "outputs": [
        {
          "output_type": "execute_result",
          "data": {
            "text/plain": [
              "<matplotlib.legend.Legend at 0x7f7b1d980470>"
            ]
          },
          "metadata": {
            "tags": []
          },
          "execution_count": 22
        },
        {
          "output_type": "display_data",
          "data": {
            "image/png": "[encoded data removed]",
            "text/plain": [
              "<Figure size 1152x648 with 1 Axes>"
            ]
          },
          "metadata": {
            "tags": []
          }
        }
      ]
    },
    {
      "cell_type": "code",
      "metadata": {
        "colab": {
          "base_uri": "https://localhost:8080/"
        },
        "id": "vRxgc11pduiy",
        "outputId": "880a039f-1a85-40f0-f4bb-98aaa1edba3c"
      },
      "source": [
        "two_layer_max = max(two_layer_test_acc)\n",
        "second_layer_size = layer_sizes[two_layer_test_acc.index(two_layer_max)]\n",
        "second_layer_size, two_layer_max, one_layer_test_acc[2]"
      ],
      "execution_count": null,
      "outputs": [
        {
          "output_type": "execute_result",
          "data": {
            "text/plain": [
              "(3652, 0.8888435040710182, 0.7722680608882716)"
            ]
          },
          "metadata": {
            "tags": []
          },
          "execution_count": 23
        }
      ]
    },
    {
      "cell_type": "markdown",
      "metadata": {
        "id": "c8jWctOESNPl"
      },
      "source": [
        "И снова таже картина, точность на тестовой выборке растет с увеличением количества нейронов на втором скрытом слое. "
      ]
    },
    {
      "cell_type": "markdown",
      "metadata": {
        "id": "QPo5jlr1SVK3"
      },
      "source": [
        "#### Regularization"
      ]
    },
    {
      "cell_type": "markdown",
      "metadata": {
        "id": "tkns25jVScHf"
      },
      "source": [
        "Снова доверимся интуиции и возьмем для второго слоя число, после которого рост точности сильно замедлился, чтобы подобрать оптимальный параметр регуляризации."
      ]
    },
    {
      "cell_type": "code",
      "metadata": {
        "colab": {
          "base_uri": "https://localhost:8080/"
        },
        "id": "jQg-mBqud1Ti",
        "outputId": "eb139b09-1b81-4c87-bf0e-0d6a2547d4d1"
      },
      "source": [
        "%%time\n",
        "mlp_model = MLPClassifier(hidden_layer_sizes = (128, 1024), max_iter = 2048, random_state = 42)\n",
        "mlp_model.fit(X_train, y_train)\n",
        "print(\"Train: {:.5f}, Test: {:.5f}\".format(\n",
        "    mlp_model.score(X_train, y_train),\n",
        "    mlp_model.score(X_test, y_test))\n",
        ")"
      ],
      "execution_count": null,
      "outputs": [
        {
          "output_type": "stream",
          "text": [
            "Train: 0.99380, Test: 0.89148\n",
            "CPU times: user 12min 33s, sys: 4min 16s, total: 16min 50s\n",
            "Wall time: 8min 33s\n"
          ],
          "name": "stdout"
        }
      ]
    },
    {
      "cell_type": "markdown",
      "metadata": {
        "id": "d05ln9VOSp1W"
      },
      "source": [
        "Тут даже повезло получить рекордную точность на тестовой выборке, "
      ]
    },
    {
      "cell_type": "code",
      "metadata": {
        "colab": {
          "base_uri": "https://localhost:8080/"
        },
        "id": "PuDegCbIrqVz",
        "outputId": "a18c3f82-c662-4b86-987a-1f772d8d9d2f"
      },
      "source": [
        "alphas = [ np.round(0.1** x, 10) for x in range(0, 8) ]\n",
        "alphas.sort()\n",
        "alphas"
      ],
      "execution_count": 17,
      "outputs": [
        {
          "output_type": "execute_result",
          "data": {
            "text/plain": [
              "[1e-07, 1e-06, 1e-05, 0.0001, 0.001, 0.01, 0.1, 1.0]"
            ]
          },
          "metadata": {
            "tags": []
          },
          "execution_count": 17
        }
      ]
    },
    {
      "cell_type": "code",
      "metadata": {
        "colab": {
          "base_uri": "https://localhost:8080/"
        },
        "id": "AjHiFBEMs3Wr",
        "outputId": "28e89313-57b1-4110-8230-36e9cc97256e"
      },
      "source": [
        "%%time\n",
        "diff_alpha_train_acc = []\n",
        "diff_alpha_test_acc  = []\n",
        "for alpha_value in alphas:\n",
        "    mlp_model = MLPClassifier(alpha = alpha_value, hidden_layer_sizes = (128, 1024), max_iter = 256, random_state = 42)\n",
        "    mlp_model.fit(X_train, y_train)\n",
        "    diff_alpha_train_acc.append(mlp_model.score(X_train, y_train))\n",
        "    diff_alpha_test_acc.append(mlp_model.score(X_test, y_test))\n",
        "    print(\"Train: {:.5f}, Test: {:.5f}\".format(\n",
        "        diff_alpha_train_acc[-1],\n",
        "        diff_alpha_test_acc[-1])\n",
        "    )"
      ],
      "execution_count": 16,
      "outputs": [
        {
          "output_type": "stream",
          "text": [
            "/usr/local/lib/python3.6/dist-packages/sklearn/neural_network/_multilayer_perceptron.py:573: UserWarning: Training interrupted by user.\n",
            "  warnings.warn(\"Training interrupted by user.\")\n"
          ],
          "name": "stderr"
        },
        {
          "output_type": "stream",
          "text": [
            "Train: 0.93763, Test: 0.85110\n",
            "Train: 0.76855, Test: 0.76315\n",
            "CPU times: user 1h 39min 13s, sys: 25min 1s, total: 2h 4min 14s\n",
            "Wall time: 1h 3min 10s\n"
          ],
          "name": "stdout"
        }
      ]
    },
    {
      "cell_type": "code",
      "metadata": {
        "id": "BSqIGNcz-nA-"
      },
      "source": [
        "#load cached\r\n",
        "diff_alpha_train_acc = [0.99362,0.99111,0.99148,0.99380,0.99120,0.98665,0.93763, 0.76855]\r\n",
        "diff_alpha_test_acc = [0.88740,0.88400,0.88495,0.89148,0.88525,0.88133,0.85110, 0.76315]"
      ],
      "execution_count": 18,
      "outputs": []
    },
    {
      "cell_type": "code",
      "metadata": {
        "colab": {
          "base_uri": "https://localhost:8080/",
          "height": 558
        },
        "id": "66dKVr37Hwy3",
        "outputId": "5d897829-ed49-403e-c802-70d5c5f4948f"
      },
      "source": [
        "plt.plot(alphas, diff_alpha_train_acc, marker='.', ls = '-', label='Train accuracy by alpha')\n",
        "plt.plot(alphas, diff_alpha_test_acc,  marker='.', ls = '-', label='Test accuracy by alpha')\n",
        "plt.xscale(\"log\")\n",
        "plt.xticks(alphas)\n",
        "plt.legend()"
      ],
      "execution_count": 19,
      "outputs": [
        {
          "output_type": "execute_result",
          "data": {
            "text/plain": [
              "<matplotlib.legend.Legend at 0x7f3321fdc1d0>"
            ]
          },
          "metadata": {
            "tags": []
          },
          "execution_count": 19
        },
        {
          "output_type": "display_data",
          "data": {
            "image/png": "[encoded data removed]",
            "text/plain": [
              "<Figure size 1152x648 with 1 Axes>"
            ]
          },
          "metadata": {
            "tags": []
          }
        }
      ]
    },
    {
      "cell_type": "code",
      "metadata": {
        "colab": {
          "base_uri": "https://localhost:8080/"
        },
        "id": "5hgkMdoVILG3",
        "outputId": "008ad6ce-6152-41b7-adab-b4842cc09553"
      },
      "source": [
        "alpha_max = max(diff_alpha_test_acc)\n",
        "best_alpha = alphas[diff_alpha_test_acc.index(alpha_max)]\n",
        "best_alpha, alpha_max"
      ],
      "execution_count": 20,
      "outputs": [
        {
          "output_type": "execute_result",
          "data": {
            "text/plain": [
              "(0.0001, 0.89148)"
            ]
          },
          "metadata": {
            "tags": []
          },
          "execution_count": 20
        }
      ]
    },
    {
      "cell_type": "markdown",
      "metadata": {
        "id": "suz2sXlxy9pe"
      },
      "source": [
        "С увеличением параметра регуляризации точность падает, а оптимальным значением оказалось стандартное"
      ]
    },
    {
      "cell_type": "code",
      "metadata": {
        "colab": {
          "base_uri": "https://localhost:8080/"
        },
        "id": "C1NTudnHIdgP",
        "outputId": "057051a6-df9e-425a-c1fb-3be84289ade8"
      },
      "source": [
        "%%time\n",
        "mlp_model = MLPClassifier(alpha = best_alpha, hidden_layer_sizes = (128, 1024), max_iter = 2048, random_state = 42)\n",
        "mlp_model.fit(X_train, y_train)\n",
        "print(\"Train: {:.5f}, Test: {:.5f}\".format(\n",
        "    mlp_model.score(X_train, y_train),\n",
        "    mlp_model.score(X_test, y_test))\n",
        ")"
      ],
      "execution_count": null,
      "outputs": [
        {
          "output_type": "stream",
          "text": [
            "Train: 0.99380, Test: 0.89148\n",
            "CPU times: user 17min 18s, sys: 6min 12s, total: 23min 31s\n",
            "Wall time: 12min 2s\n"
          ],
          "name": "stdout"
        }
      ]
    },
    {
      "cell_type": "code",
      "metadata": {
        "colab": {
          "base_uri": "https://localhost:8080/"
        },
        "id": "fc56vRpqTii9",
        "outputId": "122f0599-f2f0-4a5f-f96d-e14b67174cbe"
      },
      "source": [
        "from sklearn.metrics import classification_report\r\n",
        "y_test_pred  = mlp_model.predict(X_test)\r\n",
        "print(classification_report(y_test, y_test_pred))"
      ],
      "execution_count": null,
      "outputs": [
        {
          "output_type": "stream",
          "text": [
            "              precision    recall  f1-score   support\n",
            "\n",
            "           0       0.87      0.89      0.88     18669\n",
            "           1       0.88      0.86      0.87     18054\n",
            "\n",
            "    accuracy                           0.87     36723\n",
            "   macro avg       0.87      0.87      0.87     36723\n",
            "weighted avg       0.87      0.87      0.87     36723\n",
            "\n"
          ],
          "name": "stdout"
        }
      ]
    },
    {
      "cell_type": "markdown",
      "metadata": {
        "id": "-z0mNgmOULot"
      },
      "source": [
        "### Conclusions"
      ]
    },
    {
      "cell_type": "markdown",
      "metadata": {
        "id": "h_3L-MLhUNHT"
      },
      "source": [
        "К сожалению, большой объем данных и признаков не позволяет увеличивать число нейронов, для меня задача свелась к нахождению оптимального их числа, чтобы получить достаточно точную и не сильно большую модель.\r\n",
        "\r\n",
        "Тем не менее, по сравнению с классическими методами класификации, результат получился значительно лучше. Почти уверен, что имея достаточно времени и мощностей можно добить и до 90%.\r\n",
        "\r\n",
        "Так же стоит запусть кросс валидацию для текущей эвристики, чтобы убедиться, что это не везение, или подобрать параметры по лучше."
      ]
    },
    {
      "cell_type": "markdown",
      "metadata": {
        "id": "ISU-eW7B5-_s"
      },
      "source": [
        "### Cross validation"
      ]
    },
    {
      "cell_type": "markdown",
      "metadata": {
        "id": "AwceyUxu6GLl"
      },
      "source": [
        "#### Small sizes CV"
      ]
    },
    {
      "cell_type": "code",
      "metadata": {
        "id": "a9pvBsMyCrt_"
      },
      "source": [
        "from sklearn.neural_network import MLPClassifier\r\n",
        "mlp = MLPClassifier(max_iter=256, random_state = 42)"
      ],
      "execution_count": null,
      "outputs": []
    },
    {
      "cell_type": "code",
      "metadata": {
        "colab": {
          "base_uri": "https://localhost:8080/"
        },
        "id": "o1N5-qroC1W_",
        "outputId": "da912639-dbf0-4728-932a-9dde787c838e"
      },
      "source": [
        "input_size = data.shape[1]\r\n",
        "print(input_size)\r\n",
        "layer_sizes = [ 2**i for i in range(1, 8) ]\r\n",
        "layers_sizes = []\r\n",
        "for l1 in layer_sizes[:4]:\r\n",
        "    for l2 in layer_sizes[4:]:\r\n",
        "        if l1 <= l2:\r\n",
        "            layers_sizes.append((l1, l2))\r\n",
        "print(len(layers_sizes))\r\n",
        "print(layers_sizes)"
      ],
      "execution_count": null,
      "outputs": [
        {
          "output_type": "stream",
          "text": [
            "56\n",
            "12\n",
            "[(2, 32), (2, 64), (2, 128), (4, 32), (4, 64), (4, 128), (8, 32), (8, 64), (8, 128), (16, 32), (16, 64), (16, 128)]\n"
          ],
          "name": "stdout"
        }
      ]
    },
    {
      "cell_type": "code",
      "metadata": {
        "colab": {
          "base_uri": "https://localhost:8080/"
        },
        "id": "hq2ewZ5rESq3",
        "outputId": "0a2ce941-d314-4d34-f7b7-f281df9548b1"
      },
      "source": [
        "alphas = alphas = np.logspace(-5, 3, 5)\r\n",
        "alphas.sort()\r\n",
        "alphas"
      ],
      "execution_count": null,
      "outputs": [
        {
          "output_type": "execute_result",
          "data": {
            "text/plain": [
              "array([1.e-05, 1.e-03, 1.e-01, 1.e+01, 1.e+03])"
            ]
          },
          "metadata": {
            "tags": []
          },
          "execution_count": 31
        }
      ]
    },
    {
      "cell_type": "code",
      "metadata": {
        "colab": {
          "base_uri": "https://localhost:8080/"
        },
        "id": "4SDTGg8wCxN2",
        "outputId": "6a510118-d874-488d-c7de-9d46553b95f6"
      },
      "source": [
        "parameter_space = {\r\n",
        "    'hidden_layer_sizes': layers_sizes,\r\n",
        "    'activation': ['relu'],\r\n",
        "    'solver': ['adam'],\r\n",
        "    'alpha': alphas,\r\n",
        "    'learning_rate': ['constant','adaptive'],\r\n",
        "}\r\n",
        "parameter_space"
      ],
      "execution_count": null,
      "outputs": [
        {
          "output_type": "execute_result",
          "data": {
            "text/plain": [
              "{'activation': ['relu'],\n",
              " 'alpha': array([1.e-05, 1.e-03, 1.e-01, 1.e+01, 1.e+03]),\n",
              " 'hidden_layer_sizes': [(2, 32),\n",
              "  (2, 64),\n",
              "  (2, 128),\n",
              "  (4, 32),\n",
              "  (4, 64),\n",
              "  (4, 128),\n",
              "  (8, 32),\n",
              "  (8, 64),\n",
              "  (8, 128),\n",
              "  (16, 32),\n",
              "  (16, 64),\n",
              "  (16, 128)],\n",
              " 'learning_rate': ['constant', 'adaptive'],\n",
              " 'solver': ['adam']}"
            ]
          },
          "metadata": {
            "tags": []
          },
          "execution_count": 32
        }
      ]
    },
    {
      "cell_type": "code",
      "metadata": {
        "colab": {
          "base_uri": "https://localhost:8080/"
        },
        "id": "_5FpmViBE0Vn",
        "outputId": "14192bdf-1dc4-434d-ad0f-01a2f5e03ace"
      },
      "source": [
        "from sklearn.model_selection import GridSearchCV\r\n",
        "\r\n",
        "clf = GridSearchCV(mlp, parameter_space, n_jobs=-1, cv=3)\r\n",
        "clf.fit(X_train, y_train)"
      ],
      "execution_count": null,
      "outputs": [
        {
          "output_type": "execute_result",
          "data": {
            "text/plain": [
              "GridSearchCV(cv=3, error_score=nan,\n",
              "             estimator=MLPClassifier(activation='relu', alpha=0.0001,\n",
              "                                     batch_size='auto', beta_1=0.9,\n",
              "                                     beta_2=0.999, early_stopping=False,\n",
              "                                     epsilon=1e-08, hidden_layer_sizes=(100,),\n",
              "                                     learning_rate='constant',\n",
              "                                     learning_rate_init=0.001, max_fun=15000,\n",
              "                                     max_iter=256, momentum=0.9,\n",
              "                                     n_iter_no_change=10,\n",
              "                                     nesterovs_momentum=True, power_t=0.5,\n",
              "                                     random_state...\n",
              "             iid='deprecated', n_jobs=-1,\n",
              "             param_grid={'activation': ['relu'],\n",
              "                         'alpha': array([1.e-05, 1.e-03, 1.e-01, 1.e+01, 1.e+03]),\n",
              "                         'hidden_layer_sizes': [(2, 32), (2, 64), (2, 128),\n",
              "                                                (4, 32), (4, 64), (4, 128),\n",
              "                                                (8, 32), (8, 64), (8, 128),\n",
              "                                                (16, 32), (16, 64), (16, 128)],\n",
              "                         'learning_rate': ['constant', 'adaptive'],\n",
              "                         'solver': ['adam']},\n",
              "             pre_dispatch='2*n_jobs', refit=True, return_train_score=False,\n",
              "             scoring=None, verbose=0)"
            ]
          },
          "metadata": {
            "tags": []
          },
          "execution_count": 33
        }
      ]
    },
    {
      "cell_type": "code",
      "metadata": {
        "colab": {
          "base_uri": "https://localhost:8080/"
        },
        "id": "XzIYHyNMFQz9",
        "outputId": "f016c2f4-2124-409f-e82a-071893c705bf"
      },
      "source": [
        "print('Best parameters found:\\n', clf.best_params_)\r\n",
        "\r\n",
        "means = clf.cv_results_['mean_test_score']\r\n",
        "stds = clf.cv_results_['std_test_score']\r\n",
        "df_array = []\r\n",
        "for mean, std, params in zip(means, stds, clf.cv_results_['params']):\r\n",
        "    row = {}\r\n",
        "    row['accuracy'] = mean\r\n",
        "    row['learning_rate'] = params['learning_rate']\r\n",
        "    row['alpha'] = params['alpha']\r\n",
        "    row['alpha_index'] = alphas.tolist().index(params['alpha'])\r\n",
        "    row['first_layer_size'] = params['hidden_layer_sizes'][0]\r\n",
        "    row['second_layer_size'] = params['hidden_layer_sizes'][1]\r\n",
        "    row['total_sum'] = params['hidden_layer_sizes'][1] + params['hidden_layer_sizes'][0]\r\n",
        "    row['total_prod'] = params['hidden_layer_sizes'][1] * params['hidden_layer_sizes'][0]\r\n",
        "    df_array.append(row)\r\n",
        "   # print(\"%0.3f (+/-%0.03f) for %r\" % (mean, std * 2, params))"
      ],
      "execution_count": null,
      "outputs": [
        {
          "output_type": "stream",
          "text": [
            "Best parameters found:\n",
            " {'activation': 'relu', 'alpha': 0.1, 'hidden_layer_sizes': (4, 32), 'learning_rate': 'constant', 'solver': 'adam'}\n"
          ],
          "name": "stdout"
        }
      ]
    },
    {
      "cell_type": "code",
      "metadata": {
        "colab": {
          "base_uri": "https://localhost:8080/"
        },
        "id": "0-EmAEJpTMZm",
        "outputId": "7d9eac40-1970-41be-9fc9-039ecf95de12"
      },
      "source": [
        "y_true, y_pred = y_test , clf.predict(X_test)\r\n",
        "\r\n",
        "from sklearn.metrics import classification_report\r\n",
        "print('Results on the test set:')\r\n",
        "print(classification_report(y_true, y_pred))"
      ],
      "execution_count": null,
      "outputs": [
        {
          "output_type": "stream",
          "text": [
            "Results on the test set:\n",
            "              precision    recall  f1-score   support\n",
            "\n",
            "           0       0.78      0.72      0.75      2503\n",
            "           1       0.73      0.79      0.76      2413\n",
            "\n",
            "    accuracy                           0.75      4916\n",
            "   macro avg       0.75      0.75      0.75      4916\n",
            "weighted avg       0.75      0.75      0.75      4916\n",
            "\n"
          ],
          "name": "stdout"
        }
      ]
    },
    {
      "cell_type": "code",
      "metadata": {
        "id": "3ScGafUXU47H"
      },
      "source": [
        "df = pd.DataFrame.from_dict(df_array)"
      ],
      "execution_count": null,
      "outputs": []
    },
    {
      "cell_type": "code",
      "metadata": {
        "colab": {
          "base_uri": "https://localhost:8080/",
          "height": 537
        },
        "id": "NpdhrlcYVKR3",
        "outputId": "25c857fe-dde2-4ec3-a00c-f7de50240baa"
      },
      "source": [
        "plt.plot(df['alpha'], df['accuracy'], marker='.', ls = '-')\r\n",
        "pass"
      ],
      "execution_count": null,
      "outputs": [
        {
          "output_type": "display_data",
          "data": {
            "image/png": "[encoded data removed]",
            "text/plain": [
              "<Figure size 1152x648 with 1 Axes>"
            ]
          },
          "metadata": {
            "tags": []
          }
        }
      ]
    },
    {
      "cell_type": "code",
      "metadata": {
        "id": "ELaeUtkf_-ol"
      },
      "source": [
        "best_value = max(clf.cv_results_['mean_test_score'])"
      ],
      "execution_count": null,
      "outputs": []
    },
    {
      "cell_type": "code",
      "metadata": {
        "colab": {
          "base_uri": "https://localhost:8080/",
          "height": 554
        },
        "id": "t7v-e8qmWSBf",
        "outputId": "2dbcc3d7-e388-4ffe-d212-69fb185e687f"
      },
      "source": [
        "fig, ax = plt.subplots()\r\n",
        "\r\n",
        "scatter = ax.scatter(df['first_layer_size'], df['accuracy'], s=df['second_layer_size'], c = df['alpha_index'], alpha=0.4)\r\n",
        "legend1 = ax.legend(*scatter.legend_elements(),\r\n",
        "                    loc=\"center left\", title=\"Classes\")\r\n",
        "handles, labels = scatter.legend_elements(prop=\"sizes\", alpha=1)\r\n",
        "legend2 = ax.legend(handles, labels, loc=\"center right\", title=\"Sizes\")\r\n",
        "\r\n",
        "plt.plot((2, 16), (best_value, best_value), 'ro-')\r\n",
        "\r\n",
        "ax.add_artist(legend1)"
      ],
      "execution_count": null,
      "outputs": [
        {
          "output_type": "execute_result",
          "data": {
            "text/plain": [
              "<matplotlib.legend.Legend at 0x7ff23036f9e8>"
            ]
          },
          "metadata": {
            "tags": []
          },
          "execution_count": 106
        },
        {
          "output_type": "display_data",
          "data": {
            "image/png": "[encoded data removed]",
            "text/plain": [
              "<Figure size 1152x648 with 1 Axes>"
            ]
          },
          "metadata": {
            "tags": []
          }
        }
      ]
    },
    {
      "cell_type": "code",
      "metadata": {
        "colab": {
          "base_uri": "https://localhost:8080/"
        },
        "id": "RdpECX_hW8m-",
        "outputId": "858ddb92-97e1-44a4-ab7d-eb1b7e089a39"
      },
      "source": [
        "%%time\r\n",
        "mlp_model = MLPClassifier(alpha = 0.1, hidden_layer_sizes = (4, 32), max_iter = 2048, random_state = 42)\r\n",
        "mlp_model.fit(X_train, y_train)\r\n",
        "print(\"Train: {:.5f}, Test: {:.5f}\".format(\r\n",
        "    mlp_model.score(X_train, y_train),\r\n",
        "    mlp_model.score(X_test, y_test))\r\n",
        ")"
      ],
      "execution_count": 21,
      "outputs": [
        {
          "output_type": "stream",
          "text": [
            "Train: 0.75736, Test: 0.75506\n",
            "CPU times: user 16.9 s, sys: 75.7 ms, total: 17 s\n",
            "Wall time: 17 s\n"
          ],
          "name": "stdout"
        }
      ]
    },
    {
      "cell_type": "markdown",
      "metadata": {
        "id": "WWT2gkz0Bs_X"
      },
      "source": [
        "#### Bigger sizes CV"
      ]
    },
    {
      "cell_type": "code",
      "metadata": {
        "colab": {
          "base_uri": "https://localhost:8080/"
        },
        "id": "thmgqIZIXevV",
        "outputId": "83b199e7-63ac-411c-81e4-240eb966c27e"
      },
      "source": [
        "input_size = data.shape[1]\r\n",
        "print(input_size)\r\n",
        "layers_sizes = []\r\n",
        "for l1 in [64, 128, 192, 256]:\r\n",
        "    for l2 in [256, 512, 768, 1024, 1280]:\r\n",
        "        if l1 <= l2:\r\n",
        "            layers_sizes.append((l1, l2))\r\n",
        "print(len(layers_sizes))\r\n",
        "print(layers_sizes)\r\n",
        "alphas = alphas = np.logspace(-4, 2, 3)\r\n",
        "alphas.sort()\r\n",
        "alphas"
      ],
      "execution_count": 25,
      "outputs": [
        {
          "output_type": "stream",
          "text": [
            "56\n",
            "20\n",
            "[(64, 256), (64, 512), (64, 768), (64, 1024), (64, 1280), (128, 256), (128, 512), (128, 768), (128, 1024), (128, 1280), (192, 256), (192, 512), (192, 768), (192, 1024), (192, 1280), (256, 256), (256, 512), (256, 768), (256, 1024), (256, 1280)]\n"
          ],
          "name": "stdout"
        },
        {
          "output_type": "execute_result",
          "data": {
            "text/plain": [
              "array([1.e-04, 1.e-01, 1.e+02])"
            ]
          },
          "metadata": {
            "tags": []
          },
          "execution_count": 25
        }
      ]
    },
    {
      "cell_type": "code",
      "metadata": {
        "colab": {
          "base_uri": "https://localhost:8080/"
        },
        "id": "swFWJH_fYfD-",
        "outputId": "05994606-ae53-48f5-e20b-8eb1ad1d4a16"
      },
      "source": [
        "parameter_space = {\r\n",
        "    'hidden_layer_sizes': layers_sizes,\r\n",
        "    'activation': ['relu'],\r\n",
        "    'solver': ['adam'],\r\n",
        "    'alpha': alphas,\r\n",
        "    'learning_rate': ['constant','adaptive'],\r\n",
        "}\r\n",
        "parameter_space"
      ],
      "execution_count": 27,
      "outputs": [
        {
          "output_type": "execute_result",
          "data": {
            "text/plain": [
              "{'activation': ['relu'],\n",
              " 'alpha': array([1.e-04, 1.e-01, 1.e+02]),\n",
              " 'hidden_layer_sizes': [(64, 256),\n",
              "  (64, 512),\n",
              "  (64, 768),\n",
              "  (64, 1024),\n",
              "  (64, 1280),\n",
              "  (128, 256),\n",
              "  (128, 512),\n",
              "  (128, 768),\n",
              "  (128, 1024),\n",
              "  (128, 1280),\n",
              "  (192, 256),\n",
              "  (192, 512),\n",
              "  (192, 768),\n",
              "  (192, 1024),\n",
              "  (192, 1280),\n",
              "  (256, 256),\n",
              "  (256, 512),\n",
              "  (256, 768),\n",
              "  (256, 1024),\n",
              "  (256, 1280)],\n",
              " 'learning_rate': ['constant', 'adaptive'],\n",
              " 'solver': ['adam']}"
            ]
          },
          "metadata": {
            "tags": []
          },
          "execution_count": 27
        }
      ]
    },
    {
      "cell_type": "code",
      "metadata": {
        "colab": {
          "base_uri": "https://localhost:8080/"
        },
        "id": "OX8I0rO-YhmN",
        "outputId": "2388d531-38e8-470d-efa7-5644866c16a2"
      },
      "source": [
        "from sklearn.model_selection import GridSearchCV\r\n",
        "\r\n",
        "mlp = MLPClassifier(max_iter=256, random_state = 42)\r\n",
        "clf = GridSearchCV(mlp, parameter_space, n_jobs=-1, cv=3)\r\n",
        "clf.fit(X_train, y_train)"
      ],
      "execution_count": null,
      "outputs": [
        {
          "output_type": "stream",
          "text": [
            "/usr/local/lib/python3.6/dist-packages/joblib/externals/loky/process_executor.py:691: UserWarning: A worker stopped while some jobs were given to the executor. This can be caused by a too short worker timeout or by a memory leak.\n",
            "  \"timeout or by a memory leak.\", UserWarning\n"
          ],
          "name": "stderr"
        }
      ]
    },
    {
      "cell_type": "code",
      "metadata": {
        "id": "ZjBo65axYiHl"
      },
      "source": [
        "print('Best parameters found:\\n', clf.best_params_)\r\n",
        "\r\n",
        "means = clf.cv_results_['mean_test_score']\r\n",
        "stds = clf.cv_results_['std_test_score']\r\n",
        "df_array = []\r\n",
        "for mean, std, params in zip(means, stds, clf.cv_results_['params']):\r\n",
        "    row = {}\r\n",
        "    row['accuracy'] = mean\r\n",
        "    row['learning_rate'] = params['learning_rate']\r\n",
        "    row['alpha'] = params['alpha']\r\n",
        "    row['first_layer_size'] = params['hidden_layer_sizes'][0]\r\n",
        "    row['second_layer_size'] = params['hidden_layer_sizes'][1]\r\n",
        "    row['total_sum'] = params['hidden_layer_sizes'][1] + params['hidden_layer_sizes'][0]\r\n",
        "    row['total_prod'] = params['hidden_layer_sizes'][1] * params['hidden_layer_sizes'][0]\r\n",
        "    df_array.append(row)\r\n",
        "    print(\"%0.3f (+/-%0.03f) for %r\" % (mean, std * 2, params))"
      ],
      "execution_count": null,
      "outputs": []
    },
    {
      "cell_type": "code",
      "metadata": {
        "id": "NdcougqAYkbN"
      },
      "source": [
        "y_true, y_pred = y_test , clf.predict(X_test)\r\n",
        "\r\n",
        "from sklearn.metrics import classification_report\r\n",
        "print('Results on the test set:')\r\n",
        "print(classification_report(y_true, y_pred))"
      ],
      "execution_count": null,
      "outputs": []
    },
    {
      "cell_type": "code",
      "metadata": {
        "id": "qVt2EP8zYoDY"
      },
      "source": [
        "df_array"
      ],
      "execution_count": null,
      "outputs": []
    },
    {
      "cell_type": "markdown",
      "metadata": {
        "id": "5OTp0h9j5029"
      },
      "source": [
        "###More hidden layers"
      ]
    },
    {
      "cell_type": "code",
      "metadata": {
        "colab": {
          "base_uri": "https://localhost:8080/"
        },
        "id": "BmFHtF6t0FLN",
        "outputId": "d4935e3e-7fbb-4740-f80d-c533ce0871ec"
      },
      "source": [
        "%%time\r\n",
        "mlp_model = MLPClassifier(alpha = 0.0001, hidden_layer_sizes = (128, 256, 512, 128), max_iter = 2048, random_state = 42)\r\n",
        "mlp_model.fit(X_train, y_train)\r\n",
        "print(\"Train: {:.5f}, Test: {:.5f}\".format(\r\n",
        "    mlp_model.score(X_train, y_train),\r\n",
        "    mlp_model.score(X_test, y_test))\r\n",
        ")"
      ],
      "execution_count": null,
      "outputs": [
        {
          "output_type": "stream",
          "text": [
            "Train: 0.98889, Test: 0.88108\n",
            "CPU times: user 33min 16s, sys: 12min 6s, total: 45min 22s\n",
            "Wall time: 23min 11s\n"
          ],
          "name": "stdout"
        }
      ]
    }
  ]
}